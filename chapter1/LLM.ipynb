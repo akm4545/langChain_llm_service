{
 "nbformat": 4,
 "nbformat_minor": 0,
 "metadata": {
  "colab": {
   "provenance": []
  },
  "kernelspec": {
   "name": "python3",
   "display_name": "Python 3"
  },
  "language_info": {
   "name": "python"
  }
 },
 "cells": [
  {
   "cell_type": "code",
   "execution_count": null,
   "metadata": {
    "id": "H_jvLXMNiQOm",
    "pycharm": {
     "name": "#%%\n"
    }
   },
   "outputs": [],
   "source": [
    "from google.colab import drive\n",
    "drive.mount('/content/drive')"
   ]
  },
  {
   "cell_type": "code",
   "source": [
    "!pip install python-dotenv langchain_openai\n",
    "# 라이브러리 불러오기\n",
    "from dotenv import load_dotenv\n",
    "import os\n",
    "from langchain_openai import OpenAI\n",
    "\n",
    "# .env 파일에서 환경 변수 로드\n",
    "load_dotenv(\"/content/.env\")\n",
    "# 환경 변수에서 API 키 가져오기\n",
    "api_key = os.getenv(\"OPENAI_API_KEY\")\n",
    "# 오픈 AI LLM 초기화\n",
    "llm = OpenAI(api_key=api_key)"
   ],
   "metadata": {
    "id": "2LlLyORXiuTv",
    "pycharm": {
     "name": "#%%\n"
    }
   },
   "execution_count": null,
   "outputs": []
  },
  {
   "cell_type": "code",
   "source": [
    "# 라이브러리 설치\n",
    "!pip install langchain_core langchain_openai\n",
    "# 라이브러리 불러오기\n",
    "import openai\n",
    "from typing import List"
   ],
   "metadata": {
    "id": "w53BNfoWjdLJ",
    "pycharm": {
     "name": "#%%\n"
    }
   },
   "execution_count": null,
   "outputs": []
  },
  {
   "cell_type": "code",
   "source": [
    "# 기본 오픈AI 클라이언트 사용\n",
    "client = openai.OpenAI()"
   ],
   "metadata": {
    "id": "v7fSlqcdn_Iq",
    "pycharm": {
     "name": "#%%\n"
    }
   },
   "execution_count": null,
   "outputs": []
  },
  {
   "cell_type": "code",
   "source": [
    "# 안녕하세요! 메시지를 보내고 응답을 받음\n",
    "response = client.chat.completions.create(\n",
    "    model=\"gpt-4o-mini\",\n",
    "    messages=[{\"role\": \"user\", \"content\": \"안녕하세요!\"}]\n",
    ")\n",
    "\n",
    "# '안녕하세요! 어떻게 도와드릴까요?'\n",
    "response.choices[0].message.content"
   ],
   "metadata": {
    "id": "JLc1_12dofFA",
    "pycharm": {
     "name": "#%%\n"
    }
   },
   "execution_count": null,
   "outputs": []
  },
  {
   "cell_type": "code",
   "source": [
    "# 요청에 사용할 프롬프트 템플릿 정의\n",
    "prompt_template = \"주제 {topic}에 대해 짧은 설명을 해주세요.\""
   ],
   "metadata": {
    "id": "EreWqpyOpgTo",
    "pycharm": {
     "name": "#%%\n"
    }
   },
   "execution_count": null,
   "outputs": []
  },
  {
   "cell_type": "code",
   "source": [
    "# 메시지를 보내고 모델의 응답을 받는 함수\n",
    "# List[dict] = 딕셔너리 형태의 리스트\n",
    "def call_chat_model(messages: List[dict]):\n",
    "  response = client.chat.completions.create(\n",
    "      model=\"gpt-4o-mini\",\n",
    "      messages=messages,\n",
    "  )\n",
    "\n",
    "  return response.choices[0].message.content"
   ],
   "metadata": {
    "id": "KKEPdALMqCt1",
    "pycharm": {
     "name": "#%%\n"
    }
   },
   "execution_count": null,
   "outputs": []
  },
  {
   "cell_type": "code",
   "source": [
    "# 주어진 주제에 따라 설명을 요청하는 함수\n",
    "def invoke_chain(topic: str):\n",
    "  prompt_value = prompt_template.format(topic=topic)\n",
    "  messages = [{\"role\": \"user\", \"content\": prompt_value}]\n",
    "\n",
    "  return call_chat_model(messages)\n",
    "\n",
    "# 더블딥 주제로 설명 요청\n",
    "invoke_chain(\"더블딥\")"
   ],
   "metadata": {
    "id": "93T5nC_RrN_R",
    "pycharm": {
     "name": "#%%\n"
    }
   },
   "execution_count": null,
   "outputs": []
  }
 ]
}