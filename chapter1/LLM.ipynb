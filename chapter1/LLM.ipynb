{
 "nbformat": 4,
 "nbformat_minor": 0,
 "metadata": {
  "colab": {
   "provenance": []
  },
  "kernelspec": {
   "name": "python3",
   "display_name": "Python 3"
  },
  "language_info": {
   "name": "python"
  }
 },
 "cells": [
  {
   "cell_type": "markdown",
   "source": [
    "# **오픈AI API를 사용하여 주제에 대한 간단한 설명 생성 파이프라인 구축**"
   ],
   "metadata": {
    "id": "QZwdKbWBtbsq",
    "pycharm": {
     "name": "#%% md\n"
    }
   }
  },
  {
   "cell_type": "code",
   "execution_count": null,
   "metadata": {
    "id": "H_jvLXMNiQOm",
    "pycharm": {
     "name": "#%%\n"
    }
   },
   "outputs": [],
   "source": [
    "from google.colab import drive\n",
    "drive.mount('/content/drive')"
   ]
  },
  {
   "cell_type": "code",
   "source": [
    "!pip install python-dotenv langchain_openai\n",
    "# 라이브러리 불러오기\n",
    "from dotenv import load_dotenv\n",
    "import os\n",
    "from langchain_openai import OpenAI\n",
    "\n",
    "# .env 파일에서 환경 변수 로드\n",
    "load_dotenv(\"/content/.env\")\n",
    "# 환경 변수에서 API 키 가져오기\n",
    "api_key = os.getenv(\"OPENAI_API_KEY\")\n",
    "# 오픈 AI LLM 초기화\n",
    "llm = OpenAI(api_key=api_key)"
   ],
   "metadata": {
    "id": "2LlLyORXiuTv",
    "pycharm": {
     "name": "#%%\n"
    }
   },
   "execution_count": null,
   "outputs": []
  },
  {
   "cell_type": "code",
   "source": [
    "# 라이브러리 설치\n",
    "!pip install langchain_core langchain_openai\n",
    "# 라이브러리 불러오기\n",
    "import openai\n",
    "from typing import List"
   ],
   "metadata": {
    "id": "w53BNfoWjdLJ",
    "pycharm": {
     "name": "#%%\n"
    }
   },
   "execution_count": null,
   "outputs": []
  },
  {
   "cell_type": "code",
   "source": [
    "# 기본 오픈AI 클라이언트 사용\n",
    "client = openai.OpenAI()"
   ],
   "metadata": {
    "id": "v7fSlqcdn_Iq",
    "pycharm": {
     "name": "#%%\n"
    }
   },
   "execution_count": null,
   "outputs": []
  },
  {
   "cell_type": "code",
   "source": [
    "# 안녕하세요! 메시지를 보내고 응답을 받음\n",
    "response = client.chat.completions.create(\n",
    "    model=\"gpt-4o-mini\",\n",
    "    messages=[{\"role\": \"user\", \"content\": \"안녕하세요!\"}]\n",
    ")\n",
    "\n",
    "# '안녕하세요! 어떻게 도와드릴까요?'\n",
    "response.choices[0].message.content"
   ],
   "metadata": {
    "id": "JLc1_12dofFA",
    "pycharm": {
     "name": "#%%\n"
    }
   },
   "execution_count": null,
   "outputs": []
  },
  {
   "cell_type": "code",
   "source": [
    "# 요청에 사용할 프롬프트 템플릿 정의\n",
    "prompt_template = \"주제 {topic}에 대해 짧은 설명을 해주세요.\""
   ],
   "metadata": {
    "id": "EreWqpyOpgTo",
    "pycharm": {
     "name": "#%%\n"
    }
   },
   "execution_count": null,
   "outputs": []
  },
  {
   "cell_type": "code",
   "source": [
    "# 메시지를 보내고 모델의 응답을 받는 함수\n",
    "# List[dict] = 딕셔너리 형태의 리스트\n",
    "def call_chat_model(messages: List[dict]):\n",
    "  response = client.chat.completions.create(\n",
    "      model=\"gpt-4o-mini\",\n",
    "      messages=messages,\n",
    "  )\n",
    "\n",
    "  return response.choices[0].message.content"
   ],
   "metadata": {
    "id": "KKEPdALMqCt1",
    "pycharm": {
     "name": "#%%\n"
    }
   },
   "execution_count": null,
   "outputs": []
  },
  {
   "cell_type": "code",
   "source": [
    "# 주어진 주제에 따라 설명을 요청하는 함수\n",
    "def invoke_chain(topic: str):\n",
    "  prompt_value = prompt_template.format(topic=topic)\n",
    "  messages = [{\"role\": \"user\", \"content\": prompt_value}]\n",
    "\n",
    "  return call_chat_model(messages)\n",
    "\n",
    "# 더블딥 주제로 설명 요청\n",
    "invoke_chain(\"더블딥\")"
   ],
   "metadata": {
    "id": "93T5nC_RrN_R",
    "pycharm": {
     "name": "#%%\n"
    }
   },
   "execution_count": null,
   "outputs": []
  },
  {
   "cell_type": "markdown",
   "source": [
    "# **랭체인을 사용하여 주제에 대한 간단한 설명 생성 파이프라인 구축**"
   ],
   "metadata": {
    "id": "K6Lz67_KtlD4",
    "pycharm": {
     "name": "#%% md\n"
    }
   }
  },
  {
   "cell_type": "code",
   "source": [
    "# 라이브러리 불러오기\n",
    "from langchain_openai import ChatOpenAI\n",
    "from langchain_core.prompts import ChatPromptTemplate\n",
    "from langchain_core.output_parsers import StrOutputParser\n",
    "from langchain_core.runnables import RunnablePassthrough\n",
    "from dotenv import load_dotenv\n",
    "\n",
    "# 미스트랄AI 모델을 사용할 경우 주석 해제\n",
    "# from langchain_mistralai.chat_model import ChatMistralAI"
   ],
   "metadata": {
    "id": "HzKIABI9tx5b",
    "pycharm": {
     "name": "#%%\n"
    }
   },
   "execution_count": null,
   "outputs": []
  },
  {
   "cell_type": "code",
   "source": [
    "# 주어진 주제에 대해 짧은 설명을 요청하는 프롬프트 템플릿 정의\n",
    "prompt = ChatPromptTemplate.from_template(\n",
    "    \"주제 {topic}에 대해 짧은 설명을 해주세요.\"\n",
    ")"
   ],
   "metadata": {
    "id": "XO5AnU8FvCHB",
    "pycharm": {
     "name": "#%%\n"
    }
   },
   "execution_count": null,
   "outputs": []
  },
  {
   "cell_type": "code",
   "source": [
    "# 출력 파서를 문자열로 설정\n",
    "output_parser = StrOutputParser()\n",
    "# 오픈AI의 gpt-4o 모델을 사용하여 채팅 모델 설정\n",
    "model = ChatOpenAI(model=\"gpt-4o\")\n",
    "# 미스트랄AI 모델을 사용할 경우 주석 해제\n",
    "# model = ChatMistralAI(api_key=MISTRAL_API_KEY)"
   ],
   "metadata": {
    "id": "jqghT75Wvj6_",
    "pycharm": {
     "name": "#%%\n"
    }
   },
   "execution_count": null,
   "outputs": []
  },
  {
   "cell_type": "code",
   "source": [
    "# 파이프라인 설정: 주제를 받아 프롬프트를 생성하고 모델로 응답을 생성한 후 문자열로 파싱\n",
    "chain = (\n",
    "    # 입력받은 주제를 그대로 통과시킴\n",
    "    {\"tipic\": RunnablePassthrough()}\n",
    "    # 프롬프트 템플릿 적용\n",
    "    | prompt\n",
    "    # 모델을 사용해 응답 생성\n",
    "    | model\n",
    "    # 응답을 문자열로 파싱\n",
    "    | output_parser\n",
    ")\n",
    "\n",
    "# 더블딥 주제로 설명 요청"
   ],
   "metadata": {
    "id": "zkyf1j_I262E",
    "pycharm": {
     "name": "#%%\n"
    }
   },
   "execution_count": null,
   "outputs": []
  },
  {
   "cell_type": "markdown",
   "source": [
    "# **temperature와 max_tokens 파라미터를 설정한 대규모 언어 모델 코드**"
   ],
   "metadata": {
    "id": "7c8OzobE5wrN",
    "pycharm": {
     "name": "#%% md\n"
    }
   }
  },
  {
   "cell_type": "code",
   "source": [
    "from langchain_openai import OpenAI\n",
    "\n",
    "# LLM 모델 초기화(파라미터 설정)\n",
    "llm = OpenAI(\n",
    "    # 온도 설정(0에서 1 사이의 값)\n",
    "    temperature=0.7\n",
    "    # 최대 토큰 수 설정\n",
    "    max_tokens=100,\n",
    "    # 사용할 모델 지정\n",
    "    model_name=\"text-davinci-002\"\n",
    ")"
   ],
   "metadata": {
    "id": "g4rc7u6t54IO",
    "pycharm": {
     "name": "#%%\n"
    }
   },
   "execution_count": null,
   "outputs": []
  }
 ]
}