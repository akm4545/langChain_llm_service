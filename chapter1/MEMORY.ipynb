{
 "nbformat": 4,
 "nbformat_minor": 0,
 "metadata": {
  "colab": {
   "provenance": []
  },
  "kernelspec": {
   "name": "python3",
   "display_name": "Python 3"
  },
  "language_info": {
   "name": "python"
  }
 },
 "cells": [
  {
   "cell_type": "code",
   "execution_count": null,
   "metadata": {
    "id": "reAO8wlvImNH",
    "pycharm": {
     "name": "#%%\n"
    }
   },
   "outputs": [],
   "source": [
    "from google.colab import drive\n",
    "drive.mount('/content/drive')"
   ]
  },
  {
   "cell_type": "code",
   "source": [
    "%%capture --no-stderr\n",
    "!pip install python-dotenv langchain-community langchain-core langchain langchain-openai langchain-chroma"
   ],
   "metadata": {
    "id": "ka3-PiuGIp_V",
    "pycharm": {
     "name": "#%%\n"
    }
   },
   "execution_count": null,
   "outputs": []
  },
  {
   "cell_type": "code",
   "source": [
    "# 환경변수 설정"
   ],
   "metadata": {
    "id": "ejrZeFR5Irzf",
    "pycharm": {
     "name": "#%%\n"
    }
   },
   "execution_count": null,
   "outputs": []
  },
  {
   "cell_type": "code",
   "source": [
    "# 라이브러리 불러오기\n",
    "from dotenv import load_dotenv\n",
    "import os\n",
    "from langchain_openai import OpenAI"
   ],
   "metadata": {
    "id": "q3MlP2QwIsox",
    "pycharm": {
     "name": "#%%\n"
    }
   },
   "execution_count": null,
   "outputs": []
  },
  {
   "cell_type": "code",
   "source": [
    "# .env 파일에서 환경 변수 로드 (.env 파일에는 OPENAI API 키값을 적으면 됩니다. -> OPENAI_API_KEY=...)\n",
    "load_dotenv(\"/content/.env\")\n",
    "# 환경 변수에서 API 키 가져오기\n",
    "api_key = os.getenv(\"OPENAI_API_KEY\")\n",
    "# 오픈AI 대규모 언어 모델 초기화\n",
    "llm = OpenAI()"
   ],
   "metadata": {
    "id": "-lPoEAvcIuD_",
    "pycharm": {
     "name": "#%%\n"
    }
   },
   "execution_count": null,
   "outputs": []
  },
  {
   "cell_type": "markdown",
   "source": [
    "# **이전 대화를 포함한 메시지 전달**"
   ],
   "metadata": {
    "id": "OqgwlwhMIvgs",
    "pycharm": {
     "name": "#%% md\n"
    }
   }
  },
  {
   "cell_type": "code",
   "source": [
    "# 라이브러리 불러오기\n",
    "from langchain_core.prompts import ChatPromptTemplate\n",
    "from langchain_opneai import ChatOpenAI\n",
    "\n",
    "chat = ChatOpenAI(model=\"gpt-4o-mini\")\n",
    "\n",
    "# 프롬프트 템플릿 정의: 금융 상담 역할\n",
    "prompt = ChatPromptTemplate.from_messages(\n",
    "    [\n",
    "        (\"system\", \"당신은 금융 상담사입니다. 사용자에게 최선의 금융 조언을 제공합니다.\"),\n",
    "        # 대화 이력 추가\n",
    "        (\"placeholder\", \"{messages}\"),\n",
    "    ]\n",
    ")"
   ],
   "metadata": {
    "id": "7yYPt5zGIyHL",
    "pycharm": {
     "name": "#%%\n"
    }
   },
   "execution_count": null,
   "outputs": []
  },
  {
   "cell_type": "code",
   "source": [
    "# 프롬프트와 모델을 연결하여 체인 생성\n",
    "chain = prompt | chat"
   ],
   "metadata": {
    "id": "ApLnHn7eJupM",
    "pycharm": {
     "name": "#%%\n"
    }
   },
   "execution_count": null,
   "outputs": []
  },
  {
   "cell_type": "code",
   "source": [
    "# 이전 대화를 포함한 메시지 전달\n",
    "ai_msg = chain.invoke(\n",
    "    {\n",
    "        \"messages\": [\n",
    "            # 사용자의 첫 질문\n",
    "            (\"human\", \"저축을 늘리기 위해 무엇을 할 수 있나요?\"),\n",
    "            # 챗봇의 답변\n",
    "            (\"ai\", \"저축 목표를 설정하고, 매달 자동 이체로 일정 금액을 저축하세요.\")\n",
    "            # 사용자의 재확인 질문\n",
    "            (\"human\", \"방금 뭐라고 했나요?\")\n",
    "        ],\n",
    "    }\n",
    ")\n",
    "\n",
    "# 챗봇의 응답 출력\n",
    "print(ai_msg.content)"
   ],
   "metadata": {
    "id": "QVpgokR_J6X1",
    "pycharm": {
     "name": "#%%\n"
    }
   },
   "execution_count": null,
   "outputs": []
  },
  {
   "cell_type": "markdown",
   "source": [
    "# **ChatMessageHistory를 사용한 메시지 관리**"
   ],
   "metadata": {
    "id": "i3Q3Tb2eLj5w",
    "pycharm": {
     "name": "#%% md\n"
    }
   }
  },
  {
   "cell_type": "code",
   "source": [
    "from langchain_community.chat_message_histories import ChatMessageHistory\n",
    "\n",
    "# 대화 이력 저장을 위한 클래스 초기화\n",
    "chat_history = ChatMessageHistory()\n",
    "\n",
    "# 사용자 메시지 추가\n",
    "chat_history.add_user_message(\"저축을 늘리기 위해 무엇을 할 수 있나요?\")\n",
    "chat_history.add_ai_message(\"저축 목표를 설정하고, 매달 자동 이체로 일정 금액을 저축하세요.\")"
   ],
   "metadata": {
    "id": "9YabsTfULknz",
    "pycharm": {
     "name": "#%%\n"
    }
   },
   "execution_count": null,
   "outputs": []
  },
  {
   "cell_type": "code",
   "source": [
    "# 새로운 질문 추가 후 다시 체인 실행\n",
    "chat_history.add_user_message(\"방금 뭐라고 했나요?\")\n",
    "ai_response = chain.invoke({\"messages\": chat_history.messages})\n",
    "\n",
    "# 챗봇은 이전 메시지를 기억하여 답변한다\n",
    "print(ai_reponse.content)"
   ],
   "metadata": {
    "id": "g45A7RxSMNG4",
    "pycharm": {
     "name": "#%%\n"
    }
   },
   "execution_count": null,
   "outputs": []
  },
  {
   "cell_type": "markdown",
   "source": [
    "# **RunnableWithMessageHistory를 사용한 메시지 관리**"
   ],
   "metadata": {
    "id": "LQ89fBLHNGa-",
    "pycharm": {
     "name": "#%% md\n"
    }
   }
  },
  {
   "cell_type": "code",
   "source": [
    "from langchain_core.prompts import ChatPromptTemplate\n",
    "from langchain_core.runnables.history import RunnableWithMessageHistory\n",
    "from langchain_community.chat_message_histories import ChatMessageHistory\n",
    "\n",
    "# 시스템 메시지와 대화 이력을 사용하는 프롬프트 템플릿 정의\n",
    "prompt = ChatPromptTemplate.from_messages(\n",
    "    [\n",
    "        (\"system\", \"당신은 금융 상담사입니다. 모든 질문에 최선을 다해 답변하십시오.\"),\n",
    "        # 이전 대화 이력\n",
    "        (\"placeholder\", \"{chat_history}\"),\n",
    "        # 사용자의 새로운 질문\n",
    "        (\"human\", \"{input}\"),\n",
    "    ]\n",
    ")"
   ],
   "metadata": {
    "colab": {
     "base_uri": "https://localhost:8080/",
     "height": 402
    },
    "id": "x0pes0yfNHJX",
    "outputId": "bfe492d6-6288-4081-9ca5-52dff5358fe5",
    "pycharm": {
     "name": "#%%\n"
    }
   },
   "execution_count": 1,
   "outputs": [
    {
     "output_type": "error",
     "ename": "ModuleNotFoundError",
     "evalue": "No module named 'langchain_community'",
     "traceback": [
      "\u001B[0;31m---------------------------------------------------------------------------\u001B[0m",
      "\u001B[0;31mModuleNotFoundError\u001B[0m                       Traceback (most recent call last)",
      "\u001B[0;32m/tmp/ipython-input-693073080.py\u001B[0m in \u001B[0;36m<cell line: 0>\u001B[0;34m()\u001B[0m\n\u001B[1;32m      1\u001B[0m \u001B[0;32mfrom\u001B[0m \u001B[0mlangchain_core\u001B[0m\u001B[0;34m.\u001B[0m\u001B[0mprompts\u001B[0m \u001B[0;32mimport\u001B[0m \u001B[0mChatPromptTemplate\u001B[0m\u001B[0;34m\u001B[0m\u001B[0;34m\u001B[0m\u001B[0m\n\u001B[1;32m      2\u001B[0m \u001B[0;32mfrom\u001B[0m \u001B[0mlangchain_core\u001B[0m\u001B[0;34m.\u001B[0m\u001B[0mrunnables\u001B[0m\u001B[0;34m.\u001B[0m\u001B[0mhistory\u001B[0m \u001B[0;32mimport\u001B[0m \u001B[0mRunnableWithMessageHistory\u001B[0m\u001B[0;34m\u001B[0m\u001B[0;34m\u001B[0m\u001B[0m\n\u001B[0;32m----> 3\u001B[0;31m \u001B[0;32mfrom\u001B[0m \u001B[0mlangchain_community\u001B[0m\u001B[0;34m.\u001B[0m\u001B[0mchat_message_histories\u001B[0m \u001B[0;32mimport\u001B[0m \u001B[0mChatMessageHistory\u001B[0m\u001B[0;34m\u001B[0m\u001B[0;34m\u001B[0m\u001B[0m\n\u001B[0m\u001B[1;32m      4\u001B[0m \u001B[0;34m\u001B[0m\u001B[0m\n\u001B[1;32m      5\u001B[0m \u001B[0;31m# 시스템 메시지와 대화 이력을 사용하는 프롬프트 템플릿 정의\u001B[0m\u001B[0;34m\u001B[0m\u001B[0;34m\u001B[0m\u001B[0m\n",
      "\u001B[0;31mModuleNotFoundError\u001B[0m: No module named 'langchain_community'",
      "",
      "\u001B[0;31m---------------------------------------------------------------------------\u001B[0;32m\nNOTE: If your import is failing due to a missing package, you can\nmanually install dependencies using either !pip or !apt.\n\nTo view examples of installing some common dependencies, click the\n\"Open Examples\" button below.\n\u001B[0;31m---------------------------------------------------------------------------\u001B[0m\n"
     ],
     "errorDetails": {
      "actions": [
       {
        "action": "open_url",
        "actionText": "Open Examples",
        "url": "/notebooks/snippets/importing_libraries.ipynb"
       }
      ]
     }
    }
   ]
  },
  {
   "cell_type": "code",
   "source": [
    "# 대화 이력을 관리할 체인 설정\n",
    "chat_history = ChatMessageHistory()\n",
    "chain = prompt | chat"
   ],
   "metadata": {
    "id": "gYkrD7-BN-rO",
    "pycharm": {
     "name": "#%%\n"
    }
   },
   "execution_count": null,
   "outputs": []
  },
  {
   "cell_type": "code",
   "source": [
    "# RunnableWithMessageHistory 클래스를 사용해 체인을 감싼다\n",
    "chain_with_message_history = RunnableWithMessageHistory(\n",
    "    chain,\n",
    "    # 세션 ID에 따라 대화 이력을 불러오는 함수\n",
    "    lambda session_id: chat_history,\n",
    "    # 입력 메시지의 키 설정\n",
    "    input_messages_key=\"input\",\n",
    "    # 대화 이력의 키 설정\n",
    "    history_messages_key=\"chat_history\",\n",
    ")"
   ],
   "metadata": {
    "id": "fJ_Air9fPC7_",
    "pycharm": {
     "name": "#%%\n"
    }
   },
   "execution_count": null,
   "outputs": []
  }
 ]
}