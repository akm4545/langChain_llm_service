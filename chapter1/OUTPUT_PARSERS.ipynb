{
 "nbformat": 4,
 "nbformat_minor": 0,
 "metadata": {
  "colab": {
   "provenance": []
  },
  "kernelspec": {
   "name": "python3",
   "display_name": "Python 3"
  },
  "language_info": {
   "name": "python"
  }
 },
 "cells": [
  {
   "cell_type": "code",
   "execution_count": null,
   "metadata": {
    "id": "uLbIdjmZJeMB",
    "pycharm": {
     "name": "#%%\n"
    }
   },
   "outputs": [],
   "source": [
    "from google.colab import drive\n",
    "drive.mount('/content/drive')"
   ]
  },
  {
   "cell_type": "code",
   "source": [
    "%%capture --no-stderr\n",
    "!pip install python-dotenv langchain-core langchain langchain-openai langchain-chroma"
   ],
   "metadata": {
    "id": "vePPfrI3JmTz",
    "pycharm": {
     "name": "#%%\n"
    }
   },
   "execution_count": null,
   "outputs": []
  },
  {
   "cell_type": "code",
   "source": [
    "# 환경변수 설정"
   ],
   "metadata": {
    "id": "o8CC-VJYJoHr",
    "pycharm": {
     "name": "#%%\n"
    }
   },
   "execution_count": null,
   "outputs": []
  },
  {
   "cell_type": "code",
   "source": [
    "# 라이브러리 불러오기\n",
    "from dotenv import load_dotenv\n",
    "import os\n",
    "from langchain_openai import OpenAI"
   ],
   "metadata": {
    "id": "jA3g0dgPJpbT",
    "pycharm": {
     "name": "#%%\n"
    }
   },
   "execution_count": null,
   "outputs": []
  },
  {
   "cell_type": "code",
   "source": [
    "# .env 파일에서 환경 변수 로드\n",
    "load_dotenv(\"/content/.env\")\n",
    "# 환경 변수에서 API 키 가져오기\n",
    "api_key = os.getenv(\"OPENAI_API_KEY\")\n",
    "# 오픈AI 대규모 언어 모델 초기화\n",
    "llm = OpenAI()"
   ],
   "metadata": {
    "id": "GZzEv6R8Jqqm",
    "pycharm": {
     "name": "#%%\n"
    }
   },
   "execution_count": null,
   "outputs": []
  },
  {
   "cell_type": "markdown",
   "source": [
    "# **get_format_instructions 메서드**"
   ],
   "metadata": {
    "id": "n13exjEGJsmF",
    "pycharm": {
     "name": "#%% md\n"
    }
   }
  },
  {
   "cell_type": "code",
   "source": [
    "# 라이브러리 설치\n",
    "!pip install langchain-core langchain langchain-openai langchain-chroma\n",
    "# 라이브러리 불러오기\n",
    "from langchain_core.output_parsers import JsonOutputParser\n",
    "# Json 출력 파서 불러오기\n",
    "parser = JsonOutputParser()\n",
    "instructions = parser.get_format_instructions()\n",
    "\n",
    "# JSON 형식의 지침 출력\n",
    "print(instructions)"
   ],
   "metadata": {
    "id": "zRm4EmFOJv6Q",
    "pycharm": {
     "name": "#%%\n"
    }
   },
   "execution_count": null,
   "outputs": []
  },
  {
   "cell_type": "markdown",
   "source": [
    "# **parse 메서드**"
   ],
   "metadata": {
    "id": "yh8OydObKn9E",
    "pycharm": {
     "name": "#%% md\n"
    }
   }
  },
  {
   "cell_type": "code",
   "source": [
    "ai_response = '{\"이름\": \"김철수\", \"나이\": 30}'\n",
    "parsed_response = parser.parse(ai_response)\n",
    "\n",
    "print(parsed_response)"
   ],
   "metadata": {
    "id": "Bp0zYbT9KrdK",
    "pycharm": {
     "name": "#%%\n"
    }
   },
   "execution_count": null,
   "outputs": []
  },
  {
   "cell_type": "markdown",
   "source": [
    "# **parse_with_prompt 메서드**"
   ],
   "metadata": {
    "id": "L_fEAhfMQnfj",
    "pycharm": {
     "name": "#%% md\n"
    }
   }
  },
  {
   "cell_type": "code",
   "source": [
    "# 라이브러리 불러오기\n",
    "from langchain.output_parsers import RetryWithErrorOutputParser\n",
    "from langchain_core.output_parsers import JsonOutputParser\n",
    "from langchain_openai import ChatOpenAI\n",
    "\n",
    "# 파서 설정\n",
    "parser = RetryWithErrorOutputParser.from_llm(parser=JsonOutputParser(), llm=ChatOpenAI())"
   ],
   "metadata": {
    "id": "jgV2iPgXQqIp",
    "pycharm": {
     "name": "#%%\n"
    }
   },
   "execution_count": null,
   "outputs": []
  },
  {
   "cell_type": "code",
   "source": [
    "question = \"가장 큰 대륙은?\"\n",
    "# JSON 형식이 아닌 잘못된 응답\n",
    "ai_response = \"아시아입니다.\"\n",
    "\n",
    "try:\n",
    "  result = parser.parse_with_prompt(ai_response, question)\n",
    "  print(result)\n",
    "except Exception as e:\n",
    "  print(f\"오류 발생: {e}\")\n",
    "  # 여기서 AI에게 다시 질문할 수 있다"
   ],
   "metadata": {
    "id": "nscTpnIlRQ8w",
    "pycharm": {
     "name": "#%%\n"
    }
   },
   "execution_count": null,
   "outputs": []
  },
  {
   "cell_type": "markdown",
   "source": [
    "# **PydanticOutputParser**"
   ],
   "metadata": {
    "id": "UJD4ivDD3e2c",
    "pycharm": {
     "name": "#%% md\n"
    }
   }
  },
  {
   "cell_type": "code",
   "source": [
    "from langchain_core.output_parsers import PydanticOutputParser\n",
    "from langchain_core.prompts import PromptTemplate\n",
    "from langchain_opneai import ChatOpenAI\n",
    "from pydantic import BaseModel, Field, model_validator"
   ],
   "metadata": {
    "id": "0_29sAj03fq5",
    "pycharm": {
     "name": "#%%\n"
    }
   },
   "execution_count": null,
   "outputs": []
  },
  {
   "cell_type": "code",
   "source": [
    "# OpenAI 모델 설정\n",
    "model = ChatOpenAI(model_name=\"gpt-4o\", temperature=0.0)"
   ],
   "metadata": {
    "id": "xZ1xukzi4adb",
    "pycharm": {
     "name": "#%%\n"
    }
   },
   "execution_count": null,
   "outputs": []
  },
  {
   "cell_type": "code",
   "source": [
    "# 원하는 데이터 구조 정의\n",
    "class FinancialAdvice(BaseModel):\n",
    "  setup: str = Field(description=\"금융 조언 상황을 설정하기 위한 질문\")\n",
    "  advice: str = Field(description=\"질문을 해결하기 위한 금융 답변\")\n",
    "\n",
    "  # Pydantic을 사용한 사용자 정의 검증 로직\n",
    "  @model_validator(mode=\"before\")\n",
    "  @classmethod\n",
    "  def question_ends_with_question_mark(cls, values: dict) -> dict:\n",
    "    setup = values.get(\"setup\", \"\")\n",
    "\n",
    "    if not setup.endswith(\"?\"):\n",
    "      raise ValueError(\"잘못된 질문 형식입니다! 질문은 '?'로 끝나야 합니다.\")\n",
    "\n",
    "    return values"
   ],
   "metadata": {
    "id": "VsWS_E7F4z7N",
    "pycharm": {
     "name": "#%%\n"
    }
   },
   "execution_count": null,
   "outputs": []
  },
  {
   "cell_type": "code",
   "source": [
    "# 파서 설정 및 프롬프트 템플릿에 지침 삽입\n",
    "parser = PydanticOutputParser(pydantic_object=FinancialAdvice)\n",
    "prompt = PromptTemplate(\n",
    "    template=\"\"\"다음 금융 관련 질문에 답변해 주세요.\n",
    "    {format_instructions}\n",
    "    질문: {query}\"\"\",\n",
    "    input_variables=[\"query\"],\n",
    "    # parser.get_format_instructions() 로 생성된 프롬프트가 format_instructions 여기 들어감\n",
    "    partial_variables={\"format_instructions\": parser.get_format_instructions()},\n",
    ")\n",
    "\n",
    "# parser.get_format_instructions()\n",
    "# LangChain이 Pydantic 스키마를 JSON으로 설명하고,\n",
    "# “반드시 이 키들만, 큰따옴표, 유효한 JSON, 필요시 코드블록 내 JSON” 같은 엄격한 지침을 생성한다\n",
    "# 이 지침이 프롬프트에 삽입되어 모델이 형식을 지키도록 유도한다\n",
    "\n",
    "# parser.get_format_instructions()는 **LangChain의 PydanticOutputParser**가 기본 제공하는 메서드\n",
    "# Pydantic 모델 기반: 모델 필드/타입/description 정보를 바탕으로 지침 생성\n",
    "# LLM 출력 안정화: JSON/형식 오류를 줄이는 역할\n",
    "\n",
    "# model\n",
    "# 위 지침과 질문을 보고 {\"setup\": \"...?\", \"advice\": \"...\"} 같은 JSON을 출력한다\n",
    "\n",
    "# parser\n",
    "# JSON 파싱 → 2) FinancialAdvice로 로드 → 3) 검증기 실행\n",
    "# 여기서 @model_validator(mode=\"before\")가 가장 먼저 실행되어 setup이 '?'로 끝나는지 확인한다\n",
    "# 실패 시 ValueError가 올라오고, LangChain 레이어에서는 보통 파싱 에러로 처리된다\n",
    "\n",
    "# 언어 모델을 사용해 데이터 주로를 채우도록 프롬프트와 모델 설정\n",
    "chain = prompt | model | parser"
   ],
   "metadata": {
    "id": "Ef9pz5E56rqC",
    "pycharm": {
     "name": "#%%\n"
    }
   },
   "execution_count": null,
   "outputs": []
  },
  {
   "cell_type": "code",
   "source": [
    "# 체인 실행 및 결과 출력\n",
    "try:\n",
    "  #  template=\"\"\"다음 금융 관련 질문에 답변해 주세요.\n",
    "    # JSON 형식과 설정한 Field 지침 삽입\n",
    "    # 질문: 부동산에 관련하여 금융 조언을 받을 수 있게 질문하라.\"\"\",\n",
    "  result = chain.invoke({\"query\": \"부동산에 관련하여 금융 조언을 받을 수 있게 질문하라.\"})\n",
    "\n",
    "  # 답변을 이렇게 지정하였으므로\n",
    "  # setup: str = Field(description=\"금융 조언 상황을 설정하기 위한 질문\")\n",
    "  # advice: str = Field(description=\"질문을 해결하기 위한 금융 답변\")\n",
    "\n",
    "  # setup=질문 상황 설정\n",
    "  # advice=답변\n",
    "  # 형식으로 옴\n",
    "  print(result)\n",
    "except Exception as e:\n",
    "  print(f\"오류 발생: {e}\")"
   ],
   "metadata": {
    "id": "nBFxW8TABG-2",
    "pycharm": {
     "name": "#%%\n"
    }
   },
   "execution_count": null,
   "outputs": []
  },
  {
   "cell_type": "markdown",
   "source": [
    "# **SimpleJsonOutputParser**"
   ],
   "metadata": {
    "id": "X4JBsyCR8z8v",
    "pycharm": {
     "name": "#%% md\n"
    }
   }
  },
  {
   "cell_type": "code",
   "source": [
    "from langchain.output_parsers.json import SimpleJsonOutputParser\n",
    "\n",
    "# JSON 포맷의 응답을 생성하는 프롬프트 템플릿 설정\n",
    "json_prompt = PromptTemplate.from_template(\n",
    "    '다음 질문에 대한 답변이 포함된 JSON 객체를 반환하십시오: {question}'\n",
    ")\n",
    "\n",
    "json_parser = SimpleJsonOutputParser()\n",
    "json_chain = json_prompt | model | json_parser\n",
    "\n",
    "# 스트리밍 예시: 질문에 대합 답변이 부분적으로 구분 분석됨\n",
    "list(json_chain.stream({\"question\": \"비트코인에 대한 짧은 한문장 설명.\"}))\n",
    "\n",
    "\n",
    "# [{},\n",
    "#  {'description': ''},\n",
    "#  {'description': '비'},\n",
    "#  {'description': '비트'},\n",
    "#  {'description': '비트코'},\n",
    "# ...\n",
    "#  {'description': '비트코인은 분산형 디지털 통화로, 중앙은행 없이 개인 간의 거래를 가능하게 하는 블록체인 기술을 기반으로 합니다.'}]"
   ],
   "metadata": {
    "id": "SrO1iMmp9Agu",
    "pycharm": {
     "name": "#%%\n"
    }
   },
   "execution_count": null,
   "outputs": []
  }
 ]
}