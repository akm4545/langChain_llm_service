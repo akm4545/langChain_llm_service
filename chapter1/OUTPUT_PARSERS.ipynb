{
 "nbformat": 4,
 "nbformat_minor": 0,
 "metadata": {
  "colab": {
   "provenance": []
  },
  "kernelspec": {
   "name": "python3",
   "display_name": "Python 3"
  },
  "language_info": {
   "name": "python"
  }
 },
 "cells": [
  {
   "cell_type": "code",
   "execution_count": null,
   "metadata": {
    "id": "uLbIdjmZJeMB",
    "pycharm": {
     "name": "#%%\n"
    }
   },
   "outputs": [],
   "source": [
    "from google.colab import drive\n",
    "drive.mount('/content/drive')"
   ]
  },
  {
   "cell_type": "code",
   "source": [
    "%%capture --no-stderr\n",
    "!pip install python-dotenv langchain-core langchain langchain-openai langchain-chroma"
   ],
   "metadata": {
    "id": "vePPfrI3JmTz",
    "pycharm": {
     "name": "#%%\n"
    }
   },
   "execution_count": null,
   "outputs": []
  },
  {
   "cell_type": "code",
   "source": [
    "# 환경변수 설정"
   ],
   "metadata": {
    "id": "o8CC-VJYJoHr",
    "pycharm": {
     "name": "#%%\n"
    }
   },
   "execution_count": null,
   "outputs": []
  },
  {
   "cell_type": "code",
   "source": [
    "# 라이브러리 불러오기\n",
    "from dotenv import load_dotenv\n",
    "import os\n",
    "from langchain_openai import OpenAI"
   ],
   "metadata": {
    "id": "jA3g0dgPJpbT",
    "pycharm": {
     "name": "#%%\n"
    }
   },
   "execution_count": null,
   "outputs": []
  },
  {
   "cell_type": "code",
   "source": [
    "# .env 파일에서 환경 변수 로드\n",
    "load_dotenv(\"/content/.env\")\n",
    "# 환경 변수에서 API 키 가져오기\n",
    "api_key = os.getenv(\"OPENAI_API_KEY\")\n",
    "# 오픈AI 대규모 언어 모델 초기화\n",
    "llm = OpenAI()"
   ],
   "metadata": {
    "id": "GZzEv6R8Jqqm",
    "pycharm": {
     "name": "#%%\n"
    }
   },
   "execution_count": null,
   "outputs": []
  },
  {
   "cell_type": "markdown",
   "source": [
    "# **get_format_instructions 메서드**"
   ],
   "metadata": {
    "id": "n13exjEGJsmF",
    "pycharm": {
     "name": "#%% md\n"
    }
   }
  },
  {
   "cell_type": "code",
   "source": [
    "# 라이브러리 설치\n",
    "!pip install langchain-core langchain langchain-openai langchain-chroma\n",
    "# 라이브러리 불러오기\n",
    "from langchain_core.output_parsers import JsonOutputParser\n",
    "# Json 출력 파서 불러오기\n",
    "parser = JsonOutputParser()\n",
    "instructions = parser.get_format_instructions()\n",
    "\n",
    "# JSON 형식의 지침 출력\n",
    "print(instructions)"
   ],
   "metadata": {
    "id": "zRm4EmFOJv6Q",
    "pycharm": {
     "name": "#%%\n"
    }
   },
   "execution_count": null,
   "outputs": []
  },
  {
   "cell_type": "markdown",
   "source": [
    "# **parse 메서드**"
   ],
   "metadata": {
    "id": "yh8OydObKn9E",
    "pycharm": {
     "name": "#%% md\n"
    }
   }
  },
  {
   "cell_type": "code",
   "source": [
    "ai_response = '{\"이름\": \"김철수\", \"나이\": 30}'\n",
    "parsed_response = parser.parse(ai_response)\n",
    "\n",
    "print(parsed_response)"
   ],
   "metadata": {
    "id": "Bp0zYbT9KrdK",
    "pycharm": {
     "name": "#%%\n"
    }
   },
   "execution_count": null,
   "outputs": []
  },
  {
   "cell_type": "markdown",
   "source": [
    "# **parse_with_prompt 메서드**"
   ],
   "metadata": {
    "id": "L_fEAhfMQnfj",
    "pycharm": {
     "name": "#%% md\n"
    }
   }
  },
  {
   "cell_type": "code",
   "source": [
    "# 라이브러리 불러오기\n",
    "from langchain.output_parsers import RetryWithErrorOutputParser\n",
    "from langchain_core.output_parsers import JsonOutputParser\n",
    "from langchain_openai import ChatOpenAI\n",
    "\n",
    "# 파서 설정\n",
    "parser = RetryWithErrorOutputParser.from_llm(parser=JsonOutputParser(), llm=ChatOpenAI())"
   ],
   "metadata": {
    "id": "jgV2iPgXQqIp",
    "pycharm": {
     "name": "#%%\n"
    }
   },
   "execution_count": null,
   "outputs": []
  },
  {
   "cell_type": "code",
   "source": [
    "question = \"가장 큰 대륙은?\"\n",
    "# JSON 형식이 아닌 잘못된 응답\n",
    "ai_response = \"아시아입니다.\"\n",
    "\n",
    "try:\n",
    "  result = parser.parse_with_prompt(ai_response, question)\n",
    "  print(result)\n",
    "except Exception as e:\n",
    "  print(f\"오류 발생: {e}\")\n",
    "  # 여기서 AI에게 다시 질문할 수 있다"
   ],
   "metadata": {
    "id": "nscTpnIlRQ8w",
    "pycharm": {
     "name": "#%%\n"
    }
   },
   "execution_count": null,
   "outputs": []
  }
 ]
}