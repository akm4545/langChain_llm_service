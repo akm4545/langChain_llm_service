{
 "nbformat": 4,
 "nbformat_minor": 0,
 "metadata": {
  "colab": {
   "provenance": []
  },
  "kernelspec": {
   "name": "python3",
   "display_name": "Python 3"
  },
  "language_info": {
   "name": "python"
  }
 },
 "cells": [
  {
   "cell_type": "code",
   "execution_count": null,
   "metadata": {
    "id": "8Lo8YVRucJh8",
    "pycharm": {
     "name": "#%%\n"
    }
   },
   "outputs": [],
   "source": [
    "from google.colab import drive\n",
    "drive.mount('/content/drive')"
   ]
  },
  {
   "cell_type": "code",
   "source": [
    "%%capture --no-stderr\n",
    "!pip install python-dotenv langchain-core langchain-openai langchain-chroma"
   ],
   "metadata": {
    "id": "3pDoYSfwctkr",
    "pycharm": {
     "name": "#%%\n"
    }
   },
   "execution_count": null,
   "outputs": []
  },
  {
   "cell_type": "code",
   "source": [
    "# 환경변수 설정"
   ],
   "metadata": {
    "id": "MWzh4aGBcu3c",
    "pycharm": {
     "name": "#%%\n"
    }
   },
   "execution_count": null,
   "outputs": []
  },
  {
   "cell_type": "code",
   "source": [
    "# 라이브러리 불러오기\n",
    "from dotenv import load_dotenv\n",
    "import os\n",
    "from langchain_openai import OpenAI"
   ],
   "metadata": {
    "id": "6LucC652cwHp",
    "pycharm": {
     "name": "#%%\n"
    }
   },
   "execution_count": null,
   "outputs": []
  },
  {
   "cell_type": "code",
   "source": [
    "# .env 파일에서 환경 변수 로드\n",
    "load_dotenv(\"/content/.env\")\n",
    "# 환경 변수에서 API 키 가져오기\n",
    "api_key = os.getenv(\"OPENAI_API_KEY\")\n",
    "# 오픈AI 대규모 언어 모델 초기화\n",
    "llm = OpenAI()"
   ],
   "metadata": {
    "id": "IpNg_W1VczIl",
    "pycharm": {
     "name": "#%%\n"
    }
   },
   "execution_count": null,
   "outputs": []
  },
  {
   "cell_type": "markdown",
   "source": [
    "# **문자열 프롬프트 템플릿**"
   ],
   "metadata": {
    "id": "iOpKTyq9yiVO",
    "pycharm": {
     "name": "#%% md\n"
    }
   }
  },
  {
   "cell_type": "code",
   "source": [
    "# 라이브러리 불러오기\n",
    "from langchain_core.prompts import PromptTemplate\n",
    "# 주어진 주제에 대한 조언을 요청하는 프롬프트 템플릿 정의\n",
    "prompt_template = PromptTemplate.from_template(\"주제 {topic}에 대해 금융 관련 짧은 조언을 해주세요.\")\n",
    "# 투자 주제로 프롬프트 템플릿 호출\n",
    "prompt+template.invoke({\"topic\": \"투자\"})"
   ],
   "metadata": {
    "id": "Uag6k5j4ylQz",
    "pycharm": {
     "name": "#%%\n"
    }
   },
   "execution_count": null,
   "outputs": []
  },
  {
   "cell_type": "markdown",
   "source": [
    "# **챗 프롬프트 템플릿**"
   ],
   "metadata": {
    "id": "gXJaEXrD1KyH",
    "pycharm": {
     "name": "#%% md\n"
    }
   }
  },
  {
   "cell_type": "code",
   "source": [
    "# 라이브러리 불러오기\n",
    "from langchain_core.prompts import ChatPromptTemplate\n",
    "# 챗 프롬프트 템플릿 정의: 사용자와 시스템 간의 메시지 포함\n",
    "prompt_template = ChatPromptTemplate.from_messages([\n",
    "    (\"system\": \"당신은 유능한 금융 조언가입니다.\"),\n",
    "    (\"user\", \"주제 {topic}에 대해 금융 관련 조언을 해주세요.\")\n",
    "])\n",
    "\n",
    "# 주식 주제로 챗 프롬프트 템플릿 호출\n",
    "prompt_template.invoke({\"topic\": \"주식\"})"
   ],
   "metadata": {
    "id": "8Kdm1r2M1OBT",
    "pycharm": {
     "name": "#%%\n"
    }
   },
   "execution_count": null,
   "outputs": []
  },
  {
   "cell_type": "markdown",
   "source": [
    "# **메시지 자리 표시자 템플릿**"
   ],
   "metadata": {
    "id": "lvtu14LW2xQD",
    "pycharm": {
     "name": "#%% md\n"
    }
   }
  },
  {
   "cell_type": "code",
   "source": [
    "# 라이브러리 불러오기\n",
    "from langchain_core.prompts import ChatPromptTemplate, MessagesPlaceholder\n",
    "from langchain_core.messages import HumanMessage\n",
    "\n",
    "# 방법 1 메시지 자리 표시자를 포함한 챗 프롬프트 템플릿 정의\n",
    "prompt_template = ChatPromptTemplate.from_messages([\n",
    "    (\"system\", \"당신은 유능한 금융 조언가입니다.\"),\n",
    "    MessagePlaceholder(\"msgs\")\n",
    "])\n",
    "\n",
    "# 메시지 리스트를 msgs 자리 표시자에 전달하여 호출\n",
    "\n",
    "# HumanMessage는 LangChain에서 제공하는 메시지 타입 중 하나\n",
    "# 대화형 모델에서 사람이 입력한 메시지를 나타내는 객체\n",
    "# LLM이나 체인에 넘길 때, 메시지를 역할(role) 기반으로 관리하기 위해 사용\n",
    "# 이 객체는 단순 문자열이 아니라 역할(role) + 내용(content) + 추가 메타데이터를 담을 수 있어\n",
    "# {\"role\": \"user\", \"content\": \"안녕하세요!\"}\n",
    "prompt_template.invoke({\"msgs\": [HumanMessage(content=\"안녕하세요!\")]})\n"
   ],
   "metadata": {
    "id": "qxIsmv8I2x6c",
    "pycharm": {
     "name": "#%%\n"
    }
   },
   "execution_count": null,
   "outputs": []
  },
  {
   "cell_type": "code",
   "source": [
    "# 방법2 MessagesPlaceholder 클래스를 사용하지 않고 비슷한 작업 수행\n",
    "prompt_template = ChatPromptTemplate.from_messages([\n",
    "    (\"system\", \"당신은 유능한 금융 조언가입니다.\"),\n",
    "    # 여기서 msgs가 자리 표시자로 사용된다\n",
    "    (\"placeholder\", \"{mesg}\")\n",
    "])\n",
    "\n",
    "# 메시지 리스트를 msgs 자리 표시자에 전달하여 호출\n",
    "prompt_template.invoke({\"msgs\": [HumanMessage(content=\"안녕하세요!\")]})"
   ],
   "metadata": {
    "id": "qgpqB1sP3_im",
    "pycharm": {
     "name": "#%%\n"
    }
   },
   "execution_count": null,
   "outputs": []
  },
  {
   "cell_type": "markdown",
   "source": [
    "# **PromptTemplate를 이용한 퓨샷 프롬프트**"
   ],
   "metadata": {
    "id": "gW8jFeaf7WAw",
    "pycharm": {
     "name": "#%% md\n"
    }
   }
  },
  {
   "cell_type": "code",
   "source": [
    "# 라이브러리 불러오기\n",
    "from langchain_core.prompts import PromptTemplate\n",
    "# 질문과 답변을 포맷하는 프롬프트 템플릿 정의\n",
    "example_prompt = PromptTemplate.from_template(\"질문: {question}\\n답변: {answer}\")"
   ],
   "metadata": {
    "id": "WDnZK_Wy7X5z",
    "pycharm": {
     "name": "#%%\n"
    }
   },
   "execution_count": null,
   "outputs": []
  },
  {
   "cell_type": "code",
   "source": [
    "# 퓨샷 예제 목록 생성\n",
    "examples = [\n",
    "    {\n",
    "        \"question\": \"주식 투자와 예금 중 어느 것이 더 수익률이 높은가?\"\n",
    "        \"answer\": \"\"\"\n",
    "        후속 질문이 필요한가요: 네.\n",
    "        후속 질문: 주식 투자의 평균 수익률은 얼마인가요?\n",
    "        중간 답변: 주식 투자의 평균 수익률은 연 7%입니다.\n",
    "        후속 질문: 예금의 평균 이자율은 얼마인가요?\n",
    "        중간 답변: 예금의 평균 이자율은 연 1%입니다.\n",
    "        따라서 최종 답변은: 주식 투자\n",
    "        \"\"\",\n",
    "    },\n",
    "    {\n",
    "        \"question\": \"부동산과 채권 중 어느 것이 더 안정적인 투자처인가?\",\n",
    "        \"answer\": \"\"\"\n",
    "        후속 질문이 필요한가요: 네.\n",
    "        후속 질문: 부동산 투자의 위험도는 어느 정도인가요?\n",
    "        중간 답변: 부동산 투자의 위험도는 중간 수준입니다.\n",
    "        후속 질문: 채권의 위험도는 어느 정도인가요?\n",
    "        중간 답변: 채권의 위험도는 낮은 편입니다.\n",
    "        따라서 최종 답변은: 채권\n",
    "        \"\"\",\n",
    "    },\n",
    "]"
   ],
   "metadata": {
    "id": "RrbdcHUk8p5d",
    "pycharm": {
     "name": "#%%\n"
    }
   },
   "execution_count": null,
   "outputs": []
  },
  {
   "cell_type": "code",
   "source": [
    "print(example_prompt.invoke(examples[0].to_string()))"
   ],
   "metadata": {
    "id": "k_ZgKxXM9hd_",
    "pycharm": {
     "name": "#%%\n"
    }
   },
   "execution_count": null,
   "outputs": []
  },
  {
   "cell_type": "markdown",
   "source": [
    "# **FewShotPromptTemplate 를 이용한 퓨샷 프롬프트**"
   ],
   "metadata": {
    "id": "itiu73jk-77t",
    "pycharm": {
     "name": "#%% md\n"
    }
   }
  },
  {
   "cell_type": "code",
   "source": [
    "# 라이브러리 불러오기\n",
    "from langchain_core.prompts import FewShotPromptTemplate\n",
    "# FewShotPromptTmeplate 생성\n",
    "prompt = FewShotPromptTemplate(\n",
    "    # 위에서 정의한 Q&A 샘플\n",
    "    # 예제 프롬프트(example_prompt + examples)\n",
    "    # 미리 정의해둔 Q&A 예시들이 프롬프트 앞부분에 붙는다\n",
    "    # 일종의 샘플 답안 / 학습 데이터 역할을 한다\n",
    "    examples=examples,\n",
    "    # 각 예제를 어떻게 출력할지\n",
    "    example_prompt=example_prompt,\n",
    "    # 마지막에 진짜 입력 붙이는 자리\n",
    "    # 실제 질문(suffix + input)\n",
    "    # 마지막에 우리가 진짜 LLM에 물어볼 질문이 붙는다\n",
    "    suffix=\"질문: {input}\",\n",
    "    # suffix 안에 들어갈 변수\n",
    "    input_variables=[\"input\"],\n",
    ")\n",
    "\n",
    "# 부동산 투자 주제로 프롬프트 호출 및 출력\n",
    "print(\n",
    "    prompt.invoke({\"input\": \"부동산 투자의 장점은 무엇인가?\"}).to_string()\n",
    ")\n",
    "\n",
    "# LLM은 전체 프롬프트(예제 + 실제 질문)를 입력으로 받고\n",
    "# 예제들을 패턴 참고 자료로 삼아서 새로운 질문에 대해 비슷한 형식으로 답변하려 한다"
   ],
   "metadata": {
    "id": "CphD22WNWgUe",
    "pycharm": {
     "name": "#%%\n"
    }
   },
   "execution_count": null,
   "outputs": []
  },
  {
   "cell_type": "markdown",
   "source": [
    "# **예제 선택기를 이용한 퓨샷 프롬프트**"
   ],
   "metadata": {
    "id": "7-GFyWQ8aZ-c",
    "pycharm": {
     "name": "#%% md\n"
    }
   }
  },
  {
   "cell_type": "code",
   "source": [
    "# 라이브러리 불러오기\n",
    "from langchain_chroma import Chroma\n",
    "from langchain_core.example_selectors import SemanticSimilarityExampleSelector\n",
    "from langchin_openai import OpenAIEmbeddings\n",
    "\n",
    "# 예제 선택기 초기화\n",
    "example_selector = SemanticSimilarityExampleSelector.from_examples(\n",
    "    # 사용할 예제 목록\n",
    "    examples,\n",
    "    # 임베딩 생성에 사용하는 클래스\n",
    "    OpenAIEmbeddings(api_key=api_key),\n",
    "    # 임베딩을 저장하고 유사도 검색을 수행하는 벡터 저장소 클래스\n",
    "    Chroma,\n",
    "    # 선택할 예제의 수\n",
    "    k=1,\n",
    ")"
   ],
   "metadata": {
    "id": "tBLKQKYnab4e",
    "pycharm": {
     "name": "#%%\n"
    }
   },
   "execution_count": null,
   "outputs": []
  },
  {
   "cell_type": "code",
   "source": [
    "# 입력과 가장 유사한 예제 선택\n",
    "question = \"부동산 투자의 장점은 무엇인가?\"\n",
    "selected_examples = example_selector.select_examples({\"question\": question})"
   ],
   "metadata": {
    "id": "Bu4_9nfbbqwg",
    "pycharm": {
     "name": "#%%\n"
    }
   },
   "execution_count": null,
   "outputs": []
  },
  {
   "cell_type": "code",
   "source": [
    "# 선택된 예제 출력\n",
    "print(f\"입력 질문: {question}\")\n",
    "\n",
    "for example in selected_examples:\n",
    "  print(\"\\n\")\n",
    "  print(\"# 입력과 가장 유사한 예제:\")\n",
    "  for k, v in reveresd(example.items()):\n",
    "    print(f\"{k}: {v}\")"
   ],
   "metadata": {
    "id": "pamTC33wb8rM",
    "pycharm": {
     "name": "#%%\n"
    }
   },
   "execution_count": null,
   "outputs": []
  },
  {
   "cell_type": "markdown",
   "source": [
    "# **퓨샷 프롬프트 AI 모델 적용**"
   ],
   "metadata": {
    "id": "xFG5__5hc5VQ",
    "pycharm": {
     "name": "#%% md\n"
    }
   }
  },
  {
   "cell_type": "code",
   "source": [
    "# 라이브러리 불러오기\n",
    "from langchain_core.prompts import FewShotPromptTemplate, PromptTemplate\n",
    "from langchain_openai import ChatOpenAI\n",
    "\n",
    "# 예제 프롬프트 템플릿 생성\n",
    "example_prompt = PromptTempate(\n",
    "    input_variables=[\"question\", \"answer\"],\n",
    "    template=\"질문: {question}\\n답변: {answer}\"\n",
    ")"
   ],
   "metadata": {
    "id": "7cW0W0aWc6C5",
    "pycharm": {
     "name": "#%%\n"
    }
   },
   "execution_count": null,
   "outputs": []
  },
  {
   "cell_type": "code",
   "source": [
    "# 퓨샷 프롬프트 템플릿 설정\n",
    "prompt = FewShotPromptTemplate(\n",
    "    example_selector=example_selector,\n",
    "    example_prompt=example_prompt,\n",
    "    prefix=\"다음은 금융 관련 질문과 답변의 예입니다:\",\n",
    "    suffix=\"질문: {input}\\n답변:\",\n",
    "    input_variables=[\"input\"],\n",
    ")"
   ],
   "metadata": {
    "id": "DvUi21-EiD-Z",
    "pycharm": {
     "name": "#%%\n"
    }
   },
   "execution_count": null,
   "outputs": []
  },
  {
   "cell_type": "code",
   "source": [
    "# AI 모델 설정\n",
    "model = ChatOpenAI(model_name=\"gpt-4o\")\n",
    "# 체인 구성 및 실행\n",
    "# RunnableSequence를 사용하여 체인 연결\n",
    "chain = prompt | model\n",
    "\n",
    "# invoke 메서드 사용\n",
    "response = chain.invoke({\"input\": \"부동산 투자의 장점은 무엇인가?\"})\n",
    "print(response.content)"
   ],
   "metadata": {
    "id": "sP1zcW1dP4OJ",
    "pycharm": {
     "name": "#%%\n"
    }
   },
   "execution_count": null,
   "outputs": []
  },
  {
   "cell_type": "markdown",
   "source": [
    "# **랭체인 허브의 특정 프롬프트 불러오기**"
   ],
   "metadata": {
    "id": "upBa46Ufk0Cd",
    "pycharm": {
     "name": "#%% md\n"
    }
   }
  },
  {
   "cell_type": "code",
   "source": [
    "from langchain import hub\n",
    "\n",
    "# 최신 버전의 프롬프트 불러오기\n",
    "prompt = hub.pull(\"hardkothari/prompt-maker\")\n",
    "# 특정 버전의 프롬프트 불러오기\n",
    "hub.pull(\"hardkothari/prompt-maker:c5db8eee\")"
   ],
   "metadata": {
    "id": "uyTtCM6Bk3Ao",
    "pycharm": {
     "name": "#%%\n"
    }
   },
   "execution_count": null,
   "outputs": []
  }
 ]
}