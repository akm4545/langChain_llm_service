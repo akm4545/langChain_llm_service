{
 "nbformat": 4,
 "nbformat_minor": 0,
 "metadata": {
  "colab": {
   "provenance": []
  },
  "kernelspec": {
   "name": "python3",
   "display_name": "Python 3"
  },
  "language_info": {
   "name": "python"
  }
 },
 "cells": [
  {
   "cell_type": "code",
   "execution_count": null,
   "metadata": {
    "id": "8Lo8YVRucJh8",
    "pycharm": {
     "name": "#%%\n"
    }
   },
   "outputs": [],
   "source": [
    "from google.colab import drive\n",
    "drive.mount('/content/drive')"
   ]
  },
  {
   "cell_type": "code",
   "source": [
    "%%capture --no-stderr\n",
    "!pip install python-dotenv langchain-core langchain-openai langchain-chroma"
   ],
   "metadata": {
    "id": "3pDoYSfwctkr",
    "pycharm": {
     "name": "#%%\n"
    }
   },
   "execution_count": null,
   "outputs": []
  },
  {
   "cell_type": "code",
   "source": [
    "# 환경변수 설정"
   ],
   "metadata": {
    "id": "MWzh4aGBcu3c",
    "pycharm": {
     "name": "#%%\n"
    }
   },
   "execution_count": null,
   "outputs": []
  },
  {
   "cell_type": "code",
   "source": [
    "# 라이브러리 불러오기\n",
    "from dotenv import load_dotenv\n",
    "import os\n",
    "from langchain_openai import OpenAI"
   ],
   "metadata": {
    "id": "6LucC652cwHp",
    "pycharm": {
     "name": "#%%\n"
    }
   },
   "execution_count": null,
   "outputs": []
  },
  {
   "cell_type": "code",
   "source": [
    "# .env 파일에서 환경 변수 로드\n",
    "load_dotenv(\"/content/.env\")\n",
    "# 환경 변수에서 API 키 가져오기\n",
    "api_key = os.getenv(\"OPENAI_API_KEY\")\n",
    "# 오픈AI 대규모 언어 모델 초기화\n",
    "llm = OpenAI()"
   ],
   "metadata": {
    "id": "IpNg_W1VczIl",
    "pycharm": {
     "name": "#%%\n"
    }
   },
   "execution_count": null,
   "outputs": []
  },
  {
   "cell_type": "markdown",
   "source": [
    "# **문자열 프롬프트 템플릿**"
   ],
   "metadata": {
    "id": "iOpKTyq9yiVO",
    "pycharm": {
     "name": "#%% md\n"
    }
   }
  },
  {
   "cell_type": "code",
   "source": [
    "# 라이브러리 불러오기\n",
    "from langchain_core.prompts import PromptTemplate\n",
    "# 주어진 주제에 대한 조언을 요청하는 프롬프트 템플릿 정의\n",
    "prompt_template = PromptTemplate.from_template(\"주제 {topic}에 대해 금융 관련 짧은 조언을 해주세요.\")\n",
    "# 투자 주제로 프롬프트 템플릿 호출\n",
    "prompt+template.invoke({\"topic\": \"투자\"})"
   ],
   "metadata": {
    "id": "Uag6k5j4ylQz",
    "pycharm": {
     "name": "#%%\n"
    }
   },
   "execution_count": null,
   "outputs": []
  },
  {
   "cell_type": "markdown",
   "source": [
    "# **챗 프롬프트 템플릿**"
   ],
   "metadata": {
    "id": "gXJaEXrD1KyH",
    "pycharm": {
     "name": "#%% md\n"
    }
   }
  },
  {
   "cell_type": "code",
   "source": [
    "# 라이브러리 불러오기\n",
    "from langchain_core.prompts import ChatPromptTemplate\n",
    "# 챗 프롬프트 템플릿 정의: 사용자와 시스템 간의 메시지 포함\n",
    "prompt_template = ChatPromptTemplate.from_messages([\n",
    "    (\"system\": \"당신은 유능한 금융 조언가입니다.\"),\n",
    "    (\"user\", \"주제 {topic}에 대해 금융 관련 조언을 해주세요.\")\n",
    "])\n",
    "\n",
    "# 주식 주제로 챗 프롬프트 템플릿 호출\n",
    "prompt_template.invoke({\"topic\": \"주식\"})"
   ],
   "metadata": {
    "id": "8Kdm1r2M1OBT",
    "pycharm": {
     "name": "#%%\n"
    }
   },
   "execution_count": null,
   "outputs": []
  }
 ]
}