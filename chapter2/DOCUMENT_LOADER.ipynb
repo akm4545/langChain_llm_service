{
 "nbformat": 4,
 "nbformat_minor": 0,
 "metadata": {
  "colab": {
   "provenance": []
  },
  "kernelspec": {
   "name": "python3",
   "display_name": "Python 3"
  },
  "language_info": {
   "name": "python"
  }
 },
 "cells": [
  {
   "cell_type": "code",
   "execution_count": null,
   "metadata": {
    "id": "PfaXDMRwylwC",
    "pycharm": {
     "name": "#%%\n"
    }
   },
   "outputs": [],
   "source": [
    "from google.colab import drive\n",
    "drive.mount('/content/drive')"
   ]
  },
  {
   "cell_type": "code",
   "source": [
    "%%capture --no-stderr\n",
    "!pip install python-dotenv openAI langchain_community pypdf langchain pymupdf pdfplumber unstructured beautifulsoup4"
   ],
   "metadata": {
    "id": "QnA70jExyofV",
    "pycharm": {
     "name": "#%%\n"
    }
   },
   "execution_count": null,
   "outputs": []
  },
  {
   "cell_type": "code",
   "source": [
    "# 환경변수 설정"
   ],
   "metadata": {
    "id": "PQwG70PWyt2Y",
    "pycharm": {
     "name": "#%%\n"
    }
   },
   "execution_count": null,
   "outputs": []
  },
  {
   "cell_type": "code",
   "source": [
    "# 라이브러리 불러오기\n",
    "import os\n",
    "from dotenv import load_dotenv\n",
    "\n",
    "# .env 파일에서 환경 변수 로드\n",
    "load_dotenv(\"/content/.env\")\n",
    "# 환경 변수에서 API 키 가져오기\n",
    "api_key = os.getenv(\"OPENAI_API_KEY\")"
   ],
   "metadata": {
    "id": "4zxMOPR-ywJI",
    "pycharm": {
     "name": "#%%\n"
    }
   },
   "execution_count": null,
   "outputs": []
  },
  {
   "cell_type": "markdown",
   "source": [
    "# **WebBaseLoader**"
   ],
   "metadata": {
    "id": "gQdDs2jwy88e",
    "pycharm": {
     "name": "#%% md\n"
    }
   }
  },
  {
   "cell_type": "code",
   "source": [
    "# 라이브러리 설치\n",
    "!pip install langchain_community beautifulsoup4\n",
    "import os\n",
    "\n",
    "# 사용자 에이전트 설정\n",
    "os.environ[\"USER_AGENT\"] = \"MyApp/1.0 (Custom LangChain Application)\"\n",
    "\n",
    "# 라이브러리 불러오기\n",
    "from langchain_community.document_loaders import WebBaseLoader\n",
    "\n",
    "# 단일 URL 초기화\n",
    "loader = WebbaseLoader(\"https://docs.smith.langchain.com/\")\n",
    "\n",
    "# 다중 URL 초기화\n",
    "loader_multiple_pages = WebBaseLoader(\n",
    "    [\"https://python.langchain.com/docs/introduction/\",\n",
    "     \"https://langchain-ai.github.io/langgraph/\"]\n",
    ")"
   ],
   "metadata": {
    "id": "PW7g1eafzHyO",
    "pycharm": {
     "name": "#%%\n"
    }
   },
   "execution_count": null,
   "outputs": []
  },
  {
   "cell_type": "code",
   "source": [
    "# 단일 문서 로드\n",
    "single_doc = loader.load()\n",
    "\n",
    "# 문서의 메타데이터 확인\n",
    "print(single_doc[0].metadata)"
   ],
   "metadata": {
    "id": "SAokGB3v0M-8",
    "pycharm": {
     "name": "#%%\n"
    }
   },
   "execution_count": null,
   "outputs": []
  },
  {
   "cell_type": "code",
   "source": [
    "# 다중 문서 로드\n",
    "docs = loader_multiple_pages.load()\n",
    "\n",
    "# 첫 번째 문서의 페이지 컨텐츠 확인\n",
    "print(docs[0].page_content)"
   ],
   "metadata": {
    "id": "l_1br17u0XWG",
    "pycharm": {
     "name": "#%%\n"
    }
   },
   "execution_count": null,
   "outputs": []
  }
 ]
}