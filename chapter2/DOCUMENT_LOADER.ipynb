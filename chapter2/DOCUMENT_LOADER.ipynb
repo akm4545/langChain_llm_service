{
 "nbformat": 4,
 "nbformat_minor": 0,
 "metadata": {
  "colab": {
   "provenance": []
  },
  "kernelspec": {
   "name": "python3",
   "display_name": "Python 3"
  },
  "language_info": {
   "name": "python"
  }
 },
 "cells": [
  {
   "cell_type": "code",
   "execution_count": null,
   "metadata": {
    "id": "PfaXDMRwylwC",
    "pycharm": {
     "name": "#%%\n"
    }
   },
   "outputs": [],
   "source": [
    "from google.colab import drive\n",
    "drive.mount('/content/drive')"
   ]
  },
  {
   "cell_type": "code",
   "source": [
    "%%capture --no-stderr\n",
    "!pip install python-dotenv openAI langchain_community pypdf langchain pymupdf pdfplumber unstructured beautifulsoup4"
   ],
   "metadata": {
    "id": "QnA70jExyofV",
    "pycharm": {
     "name": "#%%\n"
    }
   },
   "execution_count": null,
   "outputs": []
  },
  {
   "cell_type": "code",
   "source": [
    "# 환경변수 설정"
   ],
   "metadata": {
    "id": "PQwG70PWyt2Y",
    "pycharm": {
     "name": "#%%\n"
    }
   },
   "execution_count": null,
   "outputs": []
  },
  {
   "cell_type": "code",
   "source": [
    "# 라이브러리 불러오기\n",
    "import os\n",
    "from dotenv import load_dotenv\n",
    "\n",
    "# .env 파일에서 환경 변수 로드\n",
    "load_dotenv(\"/content/.env\")\n",
    "# 환경 변수에서 API 키 가져오기\n",
    "api_key = os.getenv(\"OPENAI_API_KEY\")"
   ],
   "metadata": {
    "id": "4zxMOPR-ywJI",
    "pycharm": {
     "name": "#%%\n"
    }
   },
   "execution_count": null,
   "outputs": []
  },
  {
   "cell_type": "markdown",
   "source": [
    "# **WebBaseLoader**"
   ],
   "metadata": {
    "id": "gQdDs2jwy88e",
    "pycharm": {
     "name": "#%% md\n"
    }
   }
  },
  {
   "cell_type": "code",
   "source": [
    "# 라이브러리 설치\n",
    "!pip install langchain_community beautifulsoup4\n",
    "import os\n",
    "\n",
    "# 사용자 에이전트 설정\n",
    "os.environ[\"USER_AGENT\"] = \"MyApp/1.0 (Custom LangChain Application)\"\n",
    "\n",
    "# 라이브러리 불러오기\n",
    "from langchain_community.document_loaders import WebBaseLoader\n",
    "\n",
    "# 단일 URL 초기화\n",
    "loader = WebbaseLoader(\"https://docs.smith.langchain.com/\")\n",
    "\n",
    "# 다중 URL 초기화\n",
    "loader_multiple_pages = WebBaseLoader(\n",
    "    [\"https://python.langchain.com/docs/introduction/\",\n",
    "     \"https://langchain-ai.github.io/langgraph/\"]\n",
    ")"
   ],
   "metadata": {
    "id": "PW7g1eafzHyO",
    "pycharm": {
     "name": "#%%\n"
    }
   },
   "execution_count": null,
   "outputs": []
  },
  {
   "cell_type": "code",
   "source": [
    "# 단일 문서 로드\n",
    "single_doc = loader.load()\n",
    "\n",
    "# 문서의 메타데이터 확인\n",
    "print(single_doc[0].metadata)"
   ],
   "metadata": {
    "id": "SAokGB3v0M-8",
    "pycharm": {
     "name": "#%%\n"
    }
   },
   "execution_count": null,
   "outputs": []
  },
  {
   "cell_type": "code",
   "source": [
    "# 다중 문서 로드\n",
    "docs = loader_multiple_pages.load()\n",
    "\n",
    "# 첫 번째 문서의 페이지 컨텐츠 확인\n",
    "print(docs[0].page_content)"
   ],
   "metadata": {
    "id": "l_1br17u0XWG",
    "pycharm": {
     "name": "#%%\n"
    }
   },
   "execution_count": null,
   "outputs": []
  },
  {
   "cell_type": "code",
   "source": [
    "from langchain_community.document_loaders import RecursiveUrlLoader\n",
    "\n",
    "loader = RecursiveUrlLoader(\"https://python.langchain.com/docs/introduction/\",\n",
    "                            max_depth=2,\n",
    "                            prevent_outside=True,\n",
    "                            link_regex = r'.*?smith.*?',\n",
    "                            exclude_dirs=['https://python.langchain.com/docs/concepts/'])\n",
    "docs = loader.load()"
   ],
   "metadata": {
    "id": "l_Y8QXXKn8nz",
    "pycharm": {
     "name": "#%%\n"
    }
   },
   "execution_count": null,
   "outputs": []
  },
  {
   "cell_type": "code",
   "source": [
    "docs[0].metadata"
   ],
   "metadata": {
    "id": "tCLDr2CBn-3o",
    "pycharm": {
     "name": "#%%\n"
    }
   },
   "execution_count": null,
   "outputs": []
  },
  {
   "cell_type": "code",
   "source": [
    "concept_docs = [doc for doc in docs if 'concepts' in doc.page_content]\n",
    "for doc in concept_docs:\n",
    "    print(doc.metadata['source'])"
   ],
   "metadata": {
    "id": "AWiSLKLxn_f8",
    "pycharm": {
     "name": "#%%\n"
    }
   },
   "execution_count": null,
   "outputs": []
  },
  {
   "cell_type": "code",
   "source": [
    "docs[0].page_content[:1000]"
   ],
   "metadata": {
    "id": "OcmXGg13oBjf",
    "pycharm": {
     "name": "#%%\n"
    }
   },
   "execution_count": null,
   "outputs": []
  },
  {
   "cell_type": "markdown",
   "source": [
    "# **PyPDFLoader**"
   ],
   "metadata": {
    "id": "WxRCFWILoFPR",
    "pycharm": {
     "name": "#%% md\n"
    }
   }
  },
  {
   "cell_type": "code",
   "source": [
    "# 라이브러리 불러오기\n",
    "from langchain_community.document_loaders import PyPDFLoader\n",
    "from langchain_community.codument_loaders import PyMuPDFLoader\n",
    "from langchain_community.document_loaders import PDFPlumberLoader"
   ],
   "metadata": {
    "id": "7azW6hBcoImK",
    "pycharm": {
     "name": "#%%\n"
    }
   },
   "execution_count": null,
   "outputs": []
  },
  {
   "cell_type": "code",
   "source": [
    "%%time\n",
    "\n",
    "# PDF 파일 로더 초기화\n",
    "loader = PyPDFLoader(\"PDF 저장 경로\")\n",
    "\n",
    "# PDF 파일 로드 및 페이지 분할\n",
    "pages = loader.load_and_split()\n",
    "print('청크의 수:', len(pages))"
   ],
   "metadata": {
    "id": "SxsRthB3pA33",
    "pycharm": {
     "name": "#%%\n"
    }
   },
   "execution_count": null,
   "outputs": []
  },
  {
   "cell_type": "code",
   "source": [
    "pages[10]"
   ],
   "metadata": {
    "id": "WP9p_f5WqUxz",
    "pycharm": {
     "name": "#%%\n"
    }
   },
   "execution_count": null,
   "outputs": []
  },
  {
   "cell_type": "code",
   "source": [
    "pages[10].metadata"
   ],
   "metadata": {
    "id": "n7D3-eZLsMg_",
    "pycharm": {
     "name": "#%%\n"
    }
   },
   "execution_count": null,
   "outputs": []
  },
  {
   "cell_type": "code",
   "source": [
    "print(pages[10].page_content)"
   ],
   "metadata": {
    "id": "i6JMGJFosOa1",
    "pycharm": {
     "name": "#%%\n"
    }
   },
   "execution_count": null,
   "outputs": []
  },
  {
   "cell_type": "markdown",
   "source": [
    "# **PyMuPDFLoader**"
   ],
   "metadata": {
    "id": "f7o0dAcEsQ0R",
    "pycharm": {
     "name": "#%% md\n"
    }
   }
  },
  {
   "cell_type": "code",
   "source": [
    "%%time\n",
    "\n",
    "loader = PyMuPDFLoader(\"PDF 저장 경로\")\n",
    "pages = loader.load_and_split()\n",
    "\n",
    "print('청크의 수:', len(pages))"
   ],
   "metadata": {
    "id": "-r4nurmGsalt",
    "pycharm": {
     "name": "#%%\n"
    }
   },
   "execution_count": null,
   "outputs": []
  },
  {
   "cell_type": "code",
   "source": [
    "pages[10]"
   ],
   "metadata": {
    "id": "u2xN-Ksxs7J1",
    "pycharm": {
     "name": "#%%\n"
    }
   },
   "execution_count": null,
   "outputs": []
  },
  {
   "cell_type": "markdown",
   "source": [
    "# **PDFPlumberLoader**"
   ],
   "metadata": {
    "id": "hiQXMmoIuDfH",
    "pycharm": {
     "name": "#%% md\n"
    }
   }
  },
  {
   "cell_type": "code",
   "source": [
    "%%time\n",
    "\n",
    "loader = PDFPlumberLoader(\"PDF 파일 경로\")\n",
    "pages = loader.load_and_split()\n",
    "\n",
    "print('청크의 수:', len(pages))"
   ],
   "metadata": {
    "id": "EeJPJzx0uEXZ",
    "pycharm": {
     "name": "#%%\n"
    }
   },
   "execution_count": null,
   "outputs": []
  },
  {
   "cell_type": "code",
   "source": [
    "pages[10]"
   ],
   "metadata": {
    "id": "KnYNAf1HBIwH",
    "pycharm": {
     "name": "#%%\n"
    }
   },
   "execution_count": null,
   "outputs": []
  },
  {
   "cell_type": "code",
   "source": [
    "pages[10].metadata"
   ],
   "metadata": {
    "id": "N1dzpspcBMbe",
    "pycharm": {
     "name": "#%%\n"
    }
   },
   "execution_count": null,
   "outputs": []
  },
  {
   "cell_type": "code",
   "source": [
    "print(pages[10].page_content)"
   ],
   "metadata": {
    "id": "I_-AF_-gBOY1",
    "pycharm": {
     "name": "#%%\n"
    }
   },
   "execution_count": null,
   "outputs": []
  }
 ]
}