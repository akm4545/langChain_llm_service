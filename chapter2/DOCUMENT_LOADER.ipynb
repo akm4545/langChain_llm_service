{
 "nbformat": 4,
 "nbformat_minor": 0,
 "metadata": {
  "colab": {
   "provenance": []
  },
  "kernelspec": {
   "name": "python3",
   "display_name": "Python 3"
  },
  "language_info": {
   "name": "python"
  }
 },
 "cells": [
  {
   "cell_type": "code",
   "execution_count": null,
   "metadata": {
    "id": "PfaXDMRwylwC",
    "pycharm": {
     "name": "#%%\n"
    }
   },
   "outputs": [],
   "source": [
    "from google.colab import drive\n",
    "drive.mount('/content/drive')"
   ]
  },
  {
   "cell_type": "code",
   "source": [
    "%%capture --no-stderr\n",
    "!pip install python-dotenv openAI langchain_community pypdf langchain pymupdf pdfplumber unstructured beautifulsoup4"
   ],
   "metadata": {
    "id": "QnA70jExyofV",
    "pycharm": {
     "name": "#%%\n"
    }
   },
   "execution_count": null,
   "outputs": []
  },
  {
   "cell_type": "code",
   "source": [
    "# 환경변수 설정"
   ],
   "metadata": {
    "id": "PQwG70PWyt2Y",
    "pycharm": {
     "name": "#%%\n"
    }
   },
   "execution_count": null,
   "outputs": []
  },
  {
   "cell_type": "code",
   "source": [
    "# 라이브러리 불러오기\n",
    "import os\n",
    "from dotenv import load_dotenv\n",
    "\n",
    "# .env 파일에서 환경 변수 로드\n",
    "load_dotenv(\"/content/.env\")\n",
    "# 환경 변수에서 API 키 가져오기\n",
    "api_key = os.getenv(\"OPENAI_API_KEY\")"
   ],
   "metadata": {
    "id": "4zxMOPR-ywJI",
    "pycharm": {
     "name": "#%%\n"
    }
   },
   "execution_count": null,
   "outputs": []
  },
  {
   "cell_type": "markdown",
   "source": [
    "# **WebBaseLoader**"
   ],
   "metadata": {
    "id": "gQdDs2jwy88e",
    "pycharm": {
     "name": "#%% md\n"
    }
   }
  },
  {
   "cell_type": "code",
   "source": [
    "# 라이브러리 설치\n",
    "!pip install langchain_community beautifulsoup4\n",
    "import os\n",
    "\n",
    "# 사용자 에이전트 설정\n",
    "os.environ[\"USER_AGENT\"] = \"MyApp/1.0 (Custom LangChain Application)\"\n",
    "\n",
    "# 라이브러리 불러오기\n",
    "from langchain_community.document_loaders import WebBaseLoader\n",
    "\n",
    "# 단일 URL 초기화\n",
    "loader = WebbaseLoader(\"https://docs.smith.langchain.com/\")\n",
    "\n",
    "# 다중 URL 초기화\n",
    "loader_multiple_pages = WebBaseLoader(\n",
    "    [\"https://python.langchain.com/docs/introduction/\",\n",
    "     \"https://langchain-ai.github.io/langgraph/\"]\n",
    ")"
   ],
   "metadata": {
    "id": "PW7g1eafzHyO",
    "pycharm": {
     "name": "#%%\n"
    }
   },
   "execution_count": null,
   "outputs": []
  },
  {
   "cell_type": "code",
   "source": [
    "# 단일 문서 로드\n",
    "single_doc = loader.load()\n",
    "\n",
    "# 문서의 메타데이터 확인\n",
    "print(single_doc[0].metadata)"
   ],
   "metadata": {
    "id": "SAokGB3v0M-8",
    "pycharm": {
     "name": "#%%\n"
    }
   },
   "execution_count": null,
   "outputs": []
  },
  {
   "cell_type": "code",
   "source": [
    "# 다중 문서 로드\n",
    "docs = loader_multiple_pages.load()\n",
    "\n",
    "# 첫 번째 문서의 페이지 컨텐츠 확인\n",
    "print(docs[0].page_content)"
   ],
   "metadata": {
    "id": "l_1br17u0XWG",
    "pycharm": {
     "name": "#%%\n"
    }
   },
   "execution_count": null,
   "outputs": []
  },
  {
   "cell_type": "code",
   "source": [
    "from langchain_community.document_loaders import RecursiveUrlLoader\n",
    "\n",
    "loader = RecursiveUrlLoader(\"https://python.langchain.com/docs/introduction/\",\n",
    "                            max_depth=2,\n",
    "                            prevent_outside=True,\n",
    "                            link_regex = r'.*?smith.*?',\n",
    "                            exclude_dirs=['https://python.langchain.com/docs/concepts/'])\n",
    "docs = loader.load()"
   ],
   "metadata": {
    "id": "l_Y8QXXKn8nz",
    "pycharm": {
     "name": "#%%\n"
    }
   },
   "execution_count": null,
   "outputs": []
  },
  {
   "cell_type": "code",
   "source": [
    "docs[0].metadata"
   ],
   "metadata": {
    "id": "tCLDr2CBn-3o",
    "pycharm": {
     "name": "#%%\n"
    }
   },
   "execution_count": null,
   "outputs": []
  },
  {
   "cell_type": "code",
   "source": [
    "concept_docs = [doc for doc in docs if 'concepts' in doc.page_content]\n",
    "for doc in concept_docs:\n",
    "    print(doc.metadata['source'])"
   ],
   "metadata": {
    "id": "AWiSLKLxn_f8",
    "pycharm": {
     "name": "#%%\n"
    }
   },
   "execution_count": null,
   "outputs": []
  },
  {
   "cell_type": "code",
   "source": [
    "docs[0].page_content[:1000]"
   ],
   "metadata": {
    "id": "OcmXGg13oBjf",
    "pycharm": {
     "name": "#%%\n"
    }
   },
   "execution_count": null,
   "outputs": []
  },
  {
   "cell_type": "markdown",
   "source": [
    "# **PyPDFLoader**"
   ],
   "metadata": {
    "id": "WxRCFWILoFPR",
    "pycharm": {
     "name": "#%% md\n"
    }
   }
  },
  {
   "cell_type": "code",
   "source": [
    "# 라이브러리 불러오기\n",
    "from langchain_community.document_loaders import PyPDFLoader\n",
    "from langchain_community.codument_loaders import PyMuPDFLoader\n",
    "from langchain_community.document_loaders import PDFPlumberLoader"
   ],
   "metadata": {
    "id": "7azW6hBcoImK",
    "pycharm": {
     "name": "#%%\n"
    }
   },
   "execution_count": null,
   "outputs": []
  },
  {
   "cell_type": "code",
   "source": [
    "%%time\n",
    "\n",
    "# PDF 파일 로더 초기화\n",
    "loader = PyPDFLoader(\"PDF 저장 경로\")\n",
    "\n",
    "# PDF 파일 로드 및 페이지 분할\n",
    "pages = loader.load_and_split()\n",
    "print('청크의 수:', len(pages))"
   ],
   "metadata": {
    "id": "SxsRthB3pA33",
    "pycharm": {
     "name": "#%%\n"
    }
   },
   "execution_count": null,
   "outputs": []
  },
  {
   "cell_type": "code",
   "source": [
    "pages[10]"
   ],
   "metadata": {
    "id": "WP9p_f5WqUxz",
    "pycharm": {
     "name": "#%%\n"
    }
   },
   "execution_count": null,
   "outputs": []
  },
  {
   "cell_type": "code",
   "source": [
    "pages[10].metadata"
   ],
   "metadata": {
    "id": "n7D3-eZLsMg_",
    "pycharm": {
     "name": "#%%\n"
    }
   },
   "execution_count": null,
   "outputs": []
  },
  {
   "cell_type": "code",
   "source": [
    "print(pages[10].page_content)"
   ],
   "metadata": {
    "id": "i6JMGJFosOa1",
    "pycharm": {
     "name": "#%%\n"
    }
   },
   "execution_count": null,
   "outputs": []
  },
  {
   "cell_type": "markdown",
   "source": [
    "# **PyMuPDFLoader**"
   ],
   "metadata": {
    "id": "f7o0dAcEsQ0R",
    "pycharm": {
     "name": "#%% md\n"
    }
   }
  },
  {
   "cell_type": "code",
   "source": [
    "%%time\n",
    "\n",
    "loader = PyMuPDFLoader(\"PDF 저장 경로\")\n",
    "pages = loader.load_and_split()\n",
    "\n",
    "print('청크의 수:', len(pages))"
   ],
   "metadata": {
    "id": "-r4nurmGsalt",
    "pycharm": {
     "name": "#%%\n"
    }
   },
   "execution_count": null,
   "outputs": []
  },
  {
   "cell_type": "code",
   "source": [
    "pages[10]"
   ],
   "metadata": {
    "id": "u2xN-Ksxs7J1",
    "pycharm": {
     "name": "#%%\n"
    }
   },
   "execution_count": null,
   "outputs": []
  },
  {
   "cell_type": "markdown",
   "source": [
    "# **PDFPlumberLoader**"
   ],
   "metadata": {
    "id": "hiQXMmoIuDfH",
    "pycharm": {
     "name": "#%% md\n"
    }
   }
  },
  {
   "cell_type": "code",
   "source": [
    "%%time\n",
    "\n",
    "loader = PDFPlumberLoader(\"PDF 파일 경로\")\n",
    "pages = loader.load_and_split()\n",
    "\n",
    "print('청크의 수:', len(pages))"
   ],
   "metadata": {
    "id": "EeJPJzx0uEXZ",
    "pycharm": {
     "name": "#%%\n"
    }
   },
   "execution_count": null,
   "outputs": []
  },
  {
   "cell_type": "code",
   "source": [
    "pages[10]"
   ],
   "metadata": {
    "id": "KnYNAf1HBIwH",
    "pycharm": {
     "name": "#%%\n"
    }
   },
   "execution_count": null,
   "outputs": []
  },
  {
   "cell_type": "code",
   "source": [
    "pages[10].metadata"
   ],
   "metadata": {
    "id": "N1dzpspcBMbe",
    "pycharm": {
     "name": "#%%\n"
    }
   },
   "execution_count": null,
   "outputs": []
  },
  {
   "cell_type": "code",
   "source": [
    "print(pages[10].page_content)"
   ],
   "metadata": {
    "id": "I_-AF_-gBOY1",
    "pycharm": {
     "name": "#%%\n"
    }
   },
   "execution_count": null,
   "outputs": []
  },
  {
   "cell_type": "code",
   "source": [
    "%%time # 셀 실행 시간을 측정하는 매직 커맨드\n",
    "loader = PyMuPDFLoader(\"/content/drive/MyDrive/langchain-tutorial/Ch02. RAG/Data/2024_KB_부동산_보고서_최종.pdf\")\n",
    "pages = loader.load_and_split()\n",
    "print('청크의 수:', len(pages))"
   ],
   "metadata": {
    "id": "BKu2uRYh9RbU",
    "pycharm": {
     "name": "#%%\n"
    }
   },
   "execution_count": null,
   "outputs": []
  },
  {
   "cell_type": "code",
   "source": [
    "pages[10]"
   ],
   "metadata": {
    "id": "aScQnDSE9YGX",
    "pycharm": {
     "name": "#%%\n"
    }
   },
   "execution_count": null,
   "outputs": []
  },
  {
   "cell_type": "code",
   "source": [
    "%%time\n",
    "loader = PDFPlumberLoader(\"/content/drive/MyDrive/langchain-tutorial/Ch02. RAG/Data/2024_KB_부동산_보고서_최종.pdf\")\n",
    "pages = loader.load_and_split()\n",
    "print('청크의 수:', len(pages))"
   ],
   "metadata": {
    "id": "8Brl9o-T9Yix",
    "pycharm": {
     "name": "#%%\n"
    }
   },
   "execution_count": null,
   "outputs": []
  },
  {
   "cell_type": "code",
   "source": [
    "pages[10]"
   ],
   "metadata": {
    "id": "XfoclTWX9Zo6",
    "pycharm": {
     "name": "#%%\n"
    }
   },
   "execution_count": null,
   "outputs": []
  },
  {
   "cell_type": "code",
   "source": [
    "print(pages[10].page_content)"
   ],
   "metadata": {
    "id": "QE6luy0Z9cQo",
    "pycharm": {
     "name": "#%%\n"
    }
   },
   "execution_count": null,
   "outputs": []
  },
  {
   "cell_type": "markdown",
   "source": [
    "# **CSV 파일 로더**"
   ],
   "metadata": {
    "id": "ncEJU4or9drx",
    "pycharm": {
     "name": "#%% md\n"
    }
   }
  },
  {
   "cell_type": "code",
   "source": [
    "from langchain_community.document_loaders import CSVLoader\n",
    "from langchain_community.document_loaders import UnstructuredCSVLoader"
   ],
   "metadata": {
    "id": "5LV2jiLJ9gCn",
    "pycharm": {
     "name": "#%%\n"
    }
   },
   "execution_count": null,
   "outputs": []
  },
  {
   "cell_type": "code",
   "source": [
    "%%time\n",
    "# CSV 파일 로더 초기화\n",
    "loader = CSVLoader(\"CSV 파일 경로\")\n",
    "# CSV 파일 로드 및 행 분할\n",
    "documents = loader.load()\n",
    "print('청크의 수:', len(documents))"
   ],
   "metadata": {
    "id": "vx43knXM-Dop",
    "pycharm": {
     "name": "#%%\n"
    }
   },
   "execution_count": null,
   "outputs": []
  },
  {
   "cell_type": "code",
   "source": [
    "documents[5]"
   ],
   "metadata": {
    "id": "_p10Ez5B-ypQ",
    "pycharm": {
     "name": "#%%\n"
    }
   },
   "execution_count": null,
   "outputs": []
  },
  {
   "cell_type": "code",
   "source": [
    "%%time\n",
    "\n",
    "# CSV 파일 로더 초기화\n",
    "loader = UnstructuredCSVLoader(\"CSV 파일 경로\", mode='elements')\n",
    "\n",
    "# CSV 파일 로드\n",
    "documents = loader.load()\n",
    "\n",
    "print('청크의 수:', len(documents))"
   ],
   "metadata": {
    "id": "MntK5R_eAiDV",
    "pycharm": {
     "name": "#%%\n"
    }
   },
   "execution_count": null,
   "outputs": []
  },
  {
   "cell_type": "code",
   "source": [
    "str(documents[0].metadata)[:500]"
   ],
   "metadata": {
    "id": "6Es8rJn5BbgV",
    "pycharm": {
     "name": "#%%\n"
    }
   },
   "execution_count": null,
   "outputs": []
  },
  {
   "cell_type": "code",
   "source": [
    "str(documents[0].page_content)[:500]"
   ],
   "metadata": {
    "id": "IESj64EBB3II",
    "pycharm": {
     "name": "#%%\n"
    }
   },
   "execution_count": null,
   "outputs": []
  }
 ]
}