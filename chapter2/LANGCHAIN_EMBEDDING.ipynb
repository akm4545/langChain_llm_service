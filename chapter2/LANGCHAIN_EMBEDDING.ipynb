{
 "nbformat": 4,
 "nbformat_minor": 0,
 "metadata": {
  "colab": {
   "provenance": []
  },
  "kernelspec": {
   "name": "python3",
   "display_name": "Python 3"
  },
  "language_info": {
   "name": "python"
  }
 },
 "cells": [
  {
   "cell_type": "code",
   "execution_count": null,
   "metadata": {
    "id": "a-RyQRfIZzF8",
    "pycharm": {
     "name": "#%%\n"
    }
   },
   "outputs": [],
   "source": [
    "from google.colab import drive\n",
    "drive.mount('/content/drive')"
   ]
  },
  {
   "cell_type": "code",
   "source": [
    "%%capture --no-stderr\n",
    "!pip install python-dotenv openAI langchain_core langchain_openai langchain langchain-community sentence_transformers rank_bm25"
   ],
   "metadata": {
    "id": "S8xX5kk3Z1JR",
    "pycharm": {
     "name": "#%%\n"
    }
   },
   "execution_count": null,
   "outputs": []
  },
  {
   "cell_type": "markdown",
   "source": [
    "# **오픈AI 임베딩을 활용한 벡터들 간 코사인 유사도 계산**"
   ],
   "metadata": {
    "id": "uofBrBL3Z3nL",
    "pycharm": {
     "name": "#%% md\n"
    }
   }
  },
  {
   "cell_type": "code",
   "source": [
    "# 라이브러리 불러오기\n",
    "import os\n",
    "from dotenv import load_dotenv\n",
    "import numpy as np\n",
    "from numpy import dot\n",
    "from numpy.linalg import norm\n",
    "import pandas as pd\n",
    "from langchain.embeddings import OpenAIEmbeddings\n",
    "from langchain_openai import OpenAI\n",
    "\n",
    "# .env 파일에서 환경 변수 로드\n",
    "load_dotenv(\"/content/.env\")\n",
    "# 환경 변수에서 API 키 가져오기\n",
    "api_key = os.getenv(\"OPENAI_API_KEY\")"
   ],
   "metadata": {
    "id": "ryMygXRaZ5QH",
    "pycharm": {
     "name": "#%%\n"
    }
   },
   "execution_count": null,
   "outputs": []
  },
  {
   "cell_type": "code",
   "source": [
    "embeddings = OpenAIEmbeddings(model=\"text-embedding-ada-002\")\n",
    "query_result = embeddings.embed_query(\"저는 배가 고파요\")\n",
    "print(query_result)"
   ],
   "metadata": {
    "id": "rTcerR2Ia6W_",
    "pycharm": {
     "name": "#%%\n"
    }
   },
   "execution_count": null,
   "outputs": []
  },
  {
   "cell_type": "markdown",
   "source": [
    "# **오픈AI 임베딩을 활용한 문장들 간 코사인 유사도 계산**"
   ],
   "metadata": {
    "id": "C59y2qn6erj1",
    "pycharm": {
     "name": "#%% md\n"
    }
   }
  },
  {
   "cell_type": "code",
   "source": [
    "data = [\n",
    "    '주식 시장이 급등했어요',\n",
    "    '시장 물가가 올랐어요',\n",
    "    '전통 시장에는 다양한 물품들을 팔아요',\n",
    "    '부동산 시장이 점점 더 복잡해지고 있어요',\n",
    "    '저는 빠른 비트를 좋아해요',\n",
    "    '최근 비트코인 가격이 많이 변동했어요',\n",
    "]\n",
    "\n",
    "df = pd.DataFrame(data, columns=['text'])\n",
    "df"
   ],
   "metadata": {
    "id": "XhfkqBTTevDp",
    "pycharm": {
     "name": "#%%\n"
    }
   },
   "execution_count": null,
   "outputs": []
  },
  {
   "cell_type": "code",
   "source": [
    "# 텍스트를 임베딩 벡터로 변환하는 함수 정의\n",
    "def get_embedding(text):\n",
    "  return embeddings.embed_query(text)\n",
    "\n",
    "# DataFrame의 각 행에 대해 text 열의 내용을 임베딩 벡터로 변환\n",
    "# apply는 각 행(row)에 대해 지정한 함수를 적용하는 메서드\n",
    "# axis=1 → \"행 단위로\" 적용하겠다는 뜻 (열 단위는 axis=0)\n",
    "\n",
    "# df['embedding'] = ...\n",
    "# 새 컬럼 **embedding**을 만들어서 변환된 임베딩 벡터를 저장\n",
    "df['embedding'] = df.apply(\n",
    "    lambda row: get_embedding(row.text),\n",
    "    axis=1\n",
    ")\n",
    "\n",
    "df"
   ],
   "metadata": {
    "id": "h7354_x_j6Oh",
    "pycharm": {
     "name": "#%%\n"
    }
   },
   "execution_count": null,
   "outputs": []
  },
  {
   "cell_type": "code",
   "source": [
    "# 코사인 유사도 계산 함수\n",
    "def cos_sim(A, B):\n",
    "  return dot(A, B)/(norm(A) * norm(B))\n",
    "\n",
    "# 주어진 쿼리와 가장 유사항 상위 3개의 문서를 반환하는 함수\n",
    "def return_answer_candidate(df, query):\n",
    "  # 쿼리 텍스트를 임베딩 벡터로 변환\n",
    "  query_embedding = get_embedding(query)\n",
    "\n",
    "  # DataFrame의 각 문서 임베딩과 쿼리 임베딩 간의 유사도 계산\n",
    "\n",
    "  # array = numpy 배열로 변환\n",
    "  # NumPy 배열은 벡터·행렬 연산이 바로 가능해서, 임베딩 벡터 다룰 때 필수로 사용\n",
    "  df[\"similarity\"] = df.embedding.apply(lambda x: cos_sim(np.array(x), np.array(query_embedding)))\n",
    "\n",
    "  # 유사도가 높은 순으로 정렬하고 상위 3개 문서 선택\n",
    "  top_three_doc = df.sort_values(\"similarity\", ascending=False).head(3)\n",
    "\n",
    "  return top_three_doc\n",
    "\n",
    "# 예시 쿼리로 유사한 문서 검색\n",
    "sim_result = return_answer_candidate(df, '과일 값이 비싸다')\n",
    "\n",
    "sim_result"
   ],
   "metadata": {
    "id": "13zFiPfUmHWp",
    "pycharm": {
     "name": "#%%\n"
    }
   },
   "execution_count": null,
   "outputs": []
  },
  {
   "cell_type": "markdown",
   "source": [
    "# **BGE-M3 모델 임베딩**"
   ],
   "metadata": {
    "id": "ipcQY2E-pafj",
    "pycharm": {
     "name": "#%% md\n"
    }
   }
  },
  {
   "cell_type": "code",
   "source": [
    "# 라이브러리 불러오기\n",
    "from langchain.embeddings import HuggingFaceBgeEmbeddings\n",
    "\n",
    "# BGE-M3 모델 초기화\n",
    "embeddings = HuggingFaceBgeEmbeddings(model_name=\"BAAI/bge-m3\")\n",
    "\n",
    "# 데이터셋 생성\n",
    "data = [\n",
    "    '주식 시장이 급등했어요',\n",
    "    '시장 물가가 올랐어요',\n",
    "    '전통 시장에는 다양한 물품들을 팔아요',\n",
    "    '부동산 시장이 점점 더 복잡해지고 있어요',\n",
    "    '저는 빠른 비트를 좋아해요',\n",
    "    '최근 비트코인 가격이 많이 변동했어요',\n",
    "]\n",
    "\n",
    "df = pd.DataFrame(data, columns=['text'])\n",
    "\n",
    "# DataFrame의 각 행을벡터로 변환\n",
    "df['embedding'] = df['text'].apply(get_embedding)\n",
    "\n",
    "df"
   ],
   "metadata": {
    "id": "WcZjf1vOpt5j",
    "pycharm": {
     "name": "#%%\n"
    }
   },
   "execution_count": null,
   "outputs": []
  },
  {
   "cell_type": "code",
   "source": [
    "# 쿼리 예시로 유사 문서 검색\n",
    "sim_result = return_answer_cnadidate(df, '과일 값이 비싸다')\n",
    "sim_result"
   ],
   "metadata": {
    "id": "VDKKRZ7Erq-4",
    "pycharm": {
     "name": "#%%\n"
    }
   },
   "execution_count": null,
   "outputs": []
  }
 ]
}