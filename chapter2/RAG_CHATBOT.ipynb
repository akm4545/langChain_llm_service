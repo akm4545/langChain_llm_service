{
  "nbformat": 4,
  "nbformat_minor": 0,
  "metadata": {
    "colab": {
      "provenance": []
    },
    "kernelspec": {
      "name": "python3",
      "display_name": "Python 3"
    },
    "language_info": {
      "name": "python"
    }
  },
  "cells": [
    {
      "cell_type": "code",
      "execution_count": null,
      "metadata": {
        "id": "oMJ9ekkvEUEu"
      },
      "outputs": [],
      "source": []
    },
    {
      "cell_type": "code",
      "source": [
        "from google.colab import drive\n",
        "drive.mount('/content/drive')"
      ],
      "metadata": {
        "id": "YFwEtEywFMyk"
      },
      "execution_count": null,
      "outputs": []
    },
    {
      "cell_type": "code",
      "source": [
        "%%capture --no-stderr\n",
        "!pip install python-dotenv langchain_openai langchain-chroma pypdf langchain langchain_community"
      ],
      "metadata": {
        "id": "D30-rQcaFNKg"
      },
      "execution_count": null,
      "outputs": []
    },
    {
      "cell_type": "code",
      "source": [
        "# 환경변수 설정"
      ],
      "metadata": {
        "id": "IdkiW2bzFTBg"
      },
      "execution_count": null,
      "outputs": []
    },
    {
      "cell_type": "code",
      "source": [
        "# 라이브러리 불러오기\n",
        "import os\n",
        "from dotenv import load_dotenv\n",
        "\n",
        "# .env 파일에서 환경 변수 로드\n",
        "load_dotenv(\"/content/.env\")\n",
        "# 환경 변수에서 API 키 가져오기\n",
        "api_key = os.getenv(\"OPENAI_API_KEY\")"
      ],
      "metadata": {
        "id": "bI6E-RasFUDd"
      },
      "execution_count": null,
      "outputs": []
    },
    {
      "cell_type": "markdown",
      "source": [
        "# **2024 부동산 보고서 RAG 챗봇**"
      ],
      "metadata": {
        "id": "a_lk1ayeFVyE"
      }
    },
    {
      "cell_type": "code",
      "source": [
        "# 라이브러리 불러오기\n",
        "from langchain_community.document_loaders import PyPDFLoader\n",
        "from langchain.text_splitter import RecursiveCharacterTextSplitter\n",
        "from langchain_opneai import OpenAIEmbeddings, ChatOpenAI\n",
        "from langchain_chroma import Chroma\n",
        "from langchain.schema.output_parser import StrOutputParser\n",
        "from langchain_core.runnables import RunnablePassthrough, RunnableWithMessageHistory\n",
        "from langchain.memory import ChatMessageHistory"
      ],
      "metadata": {
        "id": "tFzGvWaAFYwT"
      },
      "execution_count": null,
      "outputs": []
    }
  ]
}