{
 "nbformat": 4,
 "nbformat_minor": 0,
 "metadata": {
  "colab": {
   "provenance": []
  },
  "kernelspec": {
   "name": "python3",
   "display_name": "Python 3"
  },
  "language_info": {
   "name": "python"
  }
 },
 "cells": [
  {
   "cell_type": "code",
   "execution_count": null,
   "metadata": {
    "id": "oMJ9ekkvEUEu",
    "pycharm": {
     "name": "#%%\n"
    }
   },
   "outputs": [],
   "source": []
  },
  {
   "cell_type": "code",
   "source": [
    "from google.colab import drive\n",
    "drive.mount('/content/drive')"
   ],
   "metadata": {
    "id": "YFwEtEywFMyk",
    "pycharm": {
     "name": "#%%\n"
    }
   },
   "execution_count": null,
   "outputs": []
  },
  {
   "cell_type": "code",
   "source": [
    "%%capture --no-stderr\n",
    "!pip install python-dotenv langchain_openai langchain-chroma pypdf langchain langchain_community"
   ],
   "metadata": {
    "id": "D30-rQcaFNKg",
    "pycharm": {
     "name": "#%%\n"
    }
   },
   "execution_count": null,
   "outputs": []
  },
  {
   "cell_type": "code",
   "source": [
    "# 환경변수 설정"
   ],
   "metadata": {
    "id": "IdkiW2bzFTBg",
    "pycharm": {
     "name": "#%%\n"
    }
   },
   "execution_count": null,
   "outputs": []
  },
  {
   "cell_type": "code",
   "source": [
    "# 라이브러리 불러오기\n",
    "import os\n",
    "from dotenv import load_dotenv\n",
    "\n",
    "# .env 파일에서 환경 변수 로드\n",
    "load_dotenv(\"/content/.env\")\n",
    "# 환경 변수에서 API 키 가져오기\n",
    "api_key = os.getenv(\"OPENAI_API_KEY\")"
   ],
   "metadata": {
    "id": "bI6E-RasFUDd",
    "pycharm": {
     "name": "#%%\n"
    }
   },
   "execution_count": null,
   "outputs": []
  },
  {
   "cell_type": "markdown",
   "source": [
    "# **2024 부동산 보고서 RAG 챗봇**"
   ],
   "metadata": {
    "id": "a_lk1ayeFVyE",
    "pycharm": {
     "name": "#%% md\n"
    }
   }
  },
  {
   "cell_type": "code",
   "source": [
    "# 라이브러리 불러오기\n",
    "from langchain_community.document_loaders import PyPDFLoader\n",
    "from langchain.text_splitter import RecursiveCharacterTextSplitter\n",
    "from langchain_opneai import OpenAIEmbeddings, ChatOpenAI\n",
    "from langchain_chroma import Chroma\n",
    "from langchain.schema.output_parser import StrOutputParser\n",
    "from langchain_core.runnables import RunnablePassthrough, RunnableWithMessageHistory\n",
    "from langchain.memory import ChatMessageHistory"
   ],
   "metadata": {
    "id": "tFzGvWaAFYwT",
    "pycharm": {
     "name": "#%%\n"
    }
   },
   "execution_count": null,
   "outputs": []
  },
  {
   "cell_type": "markdown",
   "source": [
    "# **PDF 문서 로드 및 텍스트 분할**"
   ],
   "metadata": {
    "id": "F69Oqc2jG5R1",
    "pycharm": {
     "name": "#%% md\n"
    }
   }
  },
  {
   "cell_type": "code",
   "source": [
    "loader = PyPDFLoader(\"pdf 경로\")\n",
    "# PDF 파일에서 문서 로드\n",
    "documents = loader.load()\n",
    "# 텍스트 분할 설정: 청크 크기와 겹칩 설정\n",
    "text_splitter = RecursiveCharacterTextSplitter(chunk_size=1000, chunk_overlap=200)\n",
    "# 문서를 작은 청크로 분할\n",
    "chunks = text_splitter.split_documents(documents)\n",
    "# 분할된 청크 수 확인\n",
    "print('분할된 청크의 수:', len(chunks))"
   ],
   "metadata": {
    "id": "2Uizi7T8G7n0",
    "pycharm": {
     "name": "#%%\n"
    }
   },
   "execution_count": null,
   "outputs": []
  },
  {
   "cell_type": "markdown",
   "source": [
    "# **임베딩 생성 및 Chroma 데이터베이스 저장**"
   ],
   "metadata": {
    "id": "Uvqz5_TVH55W",
    "pycharm": {
     "name": "#%% md\n"
    }
   }
  },
  {
   "cell_type": "code",
   "source": [
    "# 임베딩 생성 및 Chroma 데이터베이스에 저장\n",
    "# OpenAI의 임베딩 모델 설정\n",
    "embedding_function = OpenAIEmbeddings()\n",
    "persist_directory = \"크로마 DB 저장 경로\"\n",
    "\n",
    "vectorstore = Chroma.from_documents(\n",
    "    documents=chunks,\n",
    "    embedding=embedding_function,\n",
    "    # DB 저장 경로\n",
    "    persist_directory=persist_directory,\n",
    ")\n",
    "\n",
    "print('문서의 수:', vectorstore._collection.count())"
   ],
   "metadata": {
    "id": "BOWnalI3H6oN",
    "pycharm": {
     "name": "#%%\n"
    }
   },
   "execution_count": null,
   "outputs": []
  },
  {
   "cell_type": "markdown",
   "source": [
    "# **검색 및 재정렬**"
   ],
   "metadata": {
    "id": "hWcgxSPBJHGq",
    "pycharm": {
     "name": "#%% md\n"
    }
   }
  },
  {
   "cell_type": "code",
   "source": [
    "# 리트리버 생성\n",
    "# 상위 3개의 관련 문서 검색 설정\n",
    "retriever = vectorstore.as_retriever(search_kwargs={\"k\": 3})"
   ],
   "metadata": {
    "id": "0yjF9T3lJH2G",
    "pycharm": {
     "name": "#%%\n"
    }
   },
   "execution_count": null,
   "outputs": []
  },
  {
   "cell_type": "code",
   "source": [
    "# 프롬프트 템플릿 설정: 사용자 질문에 대한 답변을 생성하기 위한 템플릿\n",
    "template = \"\"\"당신은 KB 부동산 보고서 전문가입니다. 다음 정보를 바탕으로 사용자의 질문에 답변해주세요.\n",
    "컨텍스트: {context}\n",
    "\"\"\"\n",
    "\n",
    "# 프롬프트 템플릿 설정\n",
    "prompt = ChatPromptTempalte.from_messages(\n",
    "    [\n",
    "        (\"system\", template),\n",
    "        (\"placeholder\", \"{chat_history}\"),\n",
    "        (\"human\", \"{question}\")\n",
    "    ]\n",
    ")\n",
    "\n",
    "# AI 모델 설정\n",
    "model = ChatOpenAI(model_name=\"gpt-4o-mini\", temperature=0)"
   ],
   "metadata": {
    "id": "eH4Yxx0fwWCQ",
    "pycharm": {
     "name": "#%%\n"
    }
   },
   "execution_count": null,
   "outputs": []
  },
  {
   "cell_type": "code",
   "source": [
    "print(prompt.format(context=\"컨텍스트 예시\"), chat_history=[\"대화 기록 예시1\", \"대화 기록 예시2\"], question=\"질문 예시\")"
   ],
   "metadata": {
    "id": "2WNZpgi4xoZl",
    "pycharm": {
     "name": "#%%\n"
    }
   },
   "execution_count": null,
   "outputs": []
  },
  {
   "cell_type": "markdown",
   "source": [
    "# **문서 형식 변환 함수 정의**"
   ],
   "metadata": {
    "id": "PkEQer-5HhDo",
    "pycharm": {
     "name": "#%% md\n"
    }
   }
  },
  {
   "cell_type": "code",
   "source": [
    "def format_docs(docs):\n",
    "  # 문서를 줄바꿈으로 연결\n",
    "  return \"\\n\\n\".join(doc.page_content for doc in docs)\n",
    "\n",
    "# 체인 구성: 검색한 문서를 프롬프트에 연결하고 모델을 통해 응답 생성\n",
    "chain = (\n",
    "    # 검색된 문서를 연결하여 전달\n",
    "    RunnablePassthrough.assign(\n",
    "        context=lambda x: format_docs(retriever.invoke(x[\"question\"]))\n",
    "    )\n",
    "    | prompt\n",
    "    | model\n",
    "    # 결과를 문자열로 변환\n",
    "    | StrOutputParser()\n",
    ")"
   ],
   "metadata": {
    "id": "ar6rMJ91HiWw",
    "pycharm": {
     "name": "#%%\n"
    }
   },
   "execution_count": null,
   "outputs": []
  },
  {
   "cell_type": "markdown",
   "source": [
    "# **대화 기록을 유지하기 위한 메모리 설정**"
   ],
   "metadata": {
    "id": "8G1E5C3rJI1k",
    "pycharm": {
     "name": "#%% md\n"
    }
   }
  },
  {
   "cell_type": "code",
   "source": [
    "chat_history = ChatMessageHistory()\n",
    "\n",
    "chain_with_memory = RunnableWithMessageHistory(\n",
    "    chain,\n",
    "    # 세션 ID별 대화기록 생성\n",
    "    lambda session_id: chat_history,\n",
    "    input_messages_key=\"question\",\n",
    "    history_messages_key=\"chat_history\"\n",
    ")"
   ],
   "metadata": {
    "id": "cMV7D2_VJKMC",
    "pycharm": {
     "name": "#%%\n"
    }
   },
   "execution_count": null,
   "outputs": []
  },
  {
   "cell_type": "markdown",
   "source": [
    "# **챗봇 실행 함수 정의**"
   ],
   "metadata": {
    "id": "it8Ye3RWLaH2",
    "pycharm": {
     "name": "#%% md\n"
    }
   }
  },
  {
   "cell_type": "code",
   "source": [
    "def chat_with_bot():\n",
    "  session_id = \"user_session\"\n",
    "  print(\"KB 부동산 보고서 챗봇입니다. 질문해 주세요. (종료하려면 'quit' 입력)\")\n",
    "\n",
    "  while True:\n",
    "    user_input = input(\"사용자: \")\n",
    "\n",
    "    if user_input.lower() == 'quit':\n",
    "      break\n",
    "\n",
    "    # 사용자의 질문에 따라 chain_with_memory를 통해 응답 생성\n",
    "    response = chain_with_memory.invoke(\n",
    "        {\"question\": user_input},\n",
    "        {\"configurable\": {\"session_id\": session_id}}\n",
    "    )\n",
    "\n",
    "    print(\"챗봇:\", response)"
   ],
   "metadata": {
    "id": "MZd3yQnfLfOl",
    "pycharm": {
     "name": "#%%\n"
    }
   },
   "execution_count": null,
   "outputs": []
  },
  {
   "cell_type": "markdown",
   "source": [
    "# **스트림릿 적용**"
   ],
   "metadata": {
    "id": "BtVzBNmLNcAs",
    "pycharm": {
     "name": "#%% md\n"
    }
   }
  },
  {
   "cell_type": "code",
   "source": [
    "# 라이브러리 설치\n",
    "%%capture --no-stderr\n",
    "!pip install streamlit pyngrok"
   ],
   "metadata": {
    "id": "z_NAC0duNeIh",
    "pycharm": {
     "name": "#%%\n"
    }
   },
   "execution_count": null,
   "outputs": []
  },
  {
   "cell_type": "code",
   "source": [
    "# ngrok 인증키 설정\n",
    "!ngrok config add-authtoken 인증키"
   ],
   "metadata": {
    "id": "FbDfFN72y77w",
    "pycharm": {
     "name": "#%%\n"
    }
   },
   "execution_count": null,
   "outputs": []
  },
  {
   "cell_type": "markdown",
   "source": [
    "# **app.py**"
   ],
   "metadata": {
    "id": "TfaAqoVYzaKJ",
    "pycharm": {
     "name": "#%% md\n"
    }
   }
  },
  {
   "cell_type": "code",
   "source": [
    "import os\n",
    "import streamlit as st\n",
    "from dotenv import load_dotenv\n",
    "from langchain_community.document_loaders import PyPDFLoader\n",
    "from langchain.text_splitter import RecursiveCharacterTextSplitter\n",
    "from langchain_openai import OpenAIEmbeddings, ChatOpenAI\n",
    "from langchain_chroma import Chroma\n",
    "from langchain_core.prompts import ChatPromptTemplate\n",
    "from langchain.schema.output_parser import StrOutputParser\n",
    "from langchain_core.runnables import RunnablePassthrough, RunnableWithMessageHistory\n",
    "from langchain.memory import ChatMessageHistory\n",
    "\n",
    "# 환경 변수 로드\n",
    "load_dotenv(\"/content/.env\")\n",
    "api_key = os.getenv(\"OPENAI_API_KEY\")\n",
    "\n",
    "# PDF 처리 함수\n",
    "@st.cache_resource\n",
    "def process_pdf():\n",
    "  loader = PyPDFLoader(\"PDF 경로\")\n",
    "  documents = loader.load()\n",
    "  text_splitter = RecursiveCharacterTextSplitter(chunk_size=1000, chunk_overlap=200)\n",
    "\n",
    "  return text_splitter.split_documents(documents)\n",
    "\n",
    "# 벡터 저장소 초기화\n",
    "@st.cache_resource\n",
    "def initialize_vectorstore():\n",
    "  chunks = process_pdf()\n",
    "  embeddings = OpenAIEmbeddings(openai_api_key=api_key)\n",
    "\n",
    "  return Chroma.from_documents(chunks, embeddings)\n",
    "\n",
    "# 체인 초기화\n",
    "@st.cache_resource\n",
    "def initialize_chain():\n",
    "  vertorstore = initialize_vectorstore()\n",
    "  retriever = vectorstore.as_retriever(search_kwargs={\"k\": 3})\n",
    "\n",
    "  template = \"\"\"당신은 KB 부동산 보고서 전문가입니다. 다음 정보를 바탕으로 사용자의 질문에 답변해주세요.\n",
    "\n",
    "  컨텍스트: {context}\n",
    "  \"\"\"\n",
    "\n",
    "  prompt = ChatPromptTemplate.from_messages([\n",
    "      (\"system\", template),\n",
    "      (\"placeholder\", \"{chat_history}\"),\n",
    "      (\"human\", \"{question}\")\n",
    "  ])\n",
    "\n",
    "  model = ChatOpenAI(model_name=\"gpt-4o-mini\", temperature=0, openai_api_key=api_key)\n",
    "\n",
    "  def format_docs(docs):\n",
    "    return \"\\n\\n\".join(doc.page_content for doc in docs)\n",
    "\n",
    "  base_chain = (\n",
    "      RunnablePassthrough.assign(\n",
    "          context=lambda x: format_docs(retriever.invoke(x[\"question\"]))\n",
    "      )\n",
    "      | prompt\n",
    "      | model\n",
    "      | StrOutputParser(0)\n",
    "  )\n",
    "\n",
    "  return RunnableWithMessageHistory(\n",
    "      base_chain,\n",
    "      lambda session_id: ChatMessageHistory()\n",
    "      input_messages_key=\"question\",\n",
    "      history_messages_key=\"chat_history\"\n",
    "  )\n",
    "\n",
    "# Streamlit UI\n",
    "def main():\n",
    "  st.set_page_config(page_title=\"KB 부동산 보고서 챗봇\", page_icon=\"🏠\")\n",
    "  st.title(\"🏠 KB 부동산 보고서 AI 어드바이저\")\n",
    "  st.caption(\"2024 KB 부동산 보고서 기반 질의응답 시스템\")\n",
    "\n",
    "  # 세션 상태 초기화\n",
    "  if \"messages\" not in st.session_state:\n",
    "    st.session_state.messages = []\n",
    "\n",
    "  # 채팅 기록 표시\n",
    "  for message in st.session_state.messages:\n",
    "    with st.chat_message(message[\"role\"]):\n",
    "      st.markdown(message[\"content\"])\n",
    "\n",
    "  # 사용자 입력 처리\n",
    "  if prompt := st.chst_input(\"부동산 관련 질문을 입력하세요.\"):\n",
    "    # 사용자 메시지 표시\n",
    "    with st.chat_message(\"user\"):\n",
    "      st.markdown(prompt)\n",
    "    st.session_state.messages.append({\"role\": \"user\", \"content\": prompt})\n",
    "\n",
    "    # 체인 초기화\n",
    "    chain = initialize_chain()\n",
    "\n",
    "    # AI 응답 생성\n",
    "    with st.chat_message(\"assistant\"):\n",
    "      with st.spinner(\"답변 생성 중...\"):\n",
    "        response = chain.invoke(\n",
    "            {\"question\": prompt},\n",
    "            {\"configurable\": {\"session_id\": \"streamlit_session\"}}\n",
    "        )\n",
    "\n",
    "        st.markdown(response)\n",
    "\n",
    "    st.session_state.messages.append({\"role\": \"assistant\", \"content\": response})\n",
    "\n",
    "if __name__ == \"__main__\":\n",
    "  main()\n"
   ],
   "metadata": {
    "colab": {
     "base_uri": "https://localhost:8080/",
     "height": 110
    },
    "id": "C3u5TbQOzblH",
    "outputId": "c894ba8e-7c82-4196-e789-6f49efe98aa1",
    "pycharm": {
     "name": "#%%\n"
    }
   },
   "execution_count": 1,
   "outputs": [
    {
     "output_type": "error",
     "ename": "SyntaxError",
     "evalue": "invalid syntax. Perhaps you forgot a comma? (ipython-input-50788963.py, line 67)",
     "traceback": [
      "\u001B[0;36m  File \u001B[0;32m\"/tmp/ipython-input-50788963.py\"\u001B[0;36m, line \u001B[0;32m67\u001B[0m\n\u001B[0;31m    lambda session_id: ChatMessageHistory()\u001B[0m\n\u001B[0m                       ^\u001B[0m\n\u001B[0;31mSyntaxError\u001B[0m\u001B[0;31m:\u001B[0m invalid syntax. Perhaps you forgot a comma?\n"
     ]
    }
   ]
  }
 ]
}