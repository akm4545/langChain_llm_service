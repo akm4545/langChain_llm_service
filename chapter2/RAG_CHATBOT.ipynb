{
 "nbformat": 4,
 "nbformat_minor": 0,
 "metadata": {
  "colab": {
   "provenance": []
  },
  "kernelspec": {
   "name": "python3",
   "display_name": "Python 3"
  },
  "language_info": {
   "name": "python"
  }
 },
 "cells": [
  {
   "cell_type": "code",
   "execution_count": null,
   "metadata": {
    "id": "oMJ9ekkvEUEu",
    "pycharm": {
     "name": "#%%\n"
    }
   },
   "outputs": [],
   "source": []
  },
  {
   "cell_type": "code",
   "source": [
    "from google.colab import drive\n",
    "drive.mount('/content/drive')"
   ],
   "metadata": {
    "id": "YFwEtEywFMyk",
    "pycharm": {
     "name": "#%%\n"
    }
   },
   "execution_count": null,
   "outputs": []
  },
  {
   "cell_type": "code",
   "source": [
    "%%capture --no-stderr\n",
    "!pip install python-dotenv langchain_openai langchain-chroma pypdf langchain langchain_community"
   ],
   "metadata": {
    "id": "D30-rQcaFNKg",
    "pycharm": {
     "name": "#%%\n"
    }
   },
   "execution_count": null,
   "outputs": []
  },
  {
   "cell_type": "code",
   "source": [
    "# 환경변수 설정"
   ],
   "metadata": {
    "id": "IdkiW2bzFTBg",
    "pycharm": {
     "name": "#%%\n"
    }
   },
   "execution_count": null,
   "outputs": []
  },
  {
   "cell_type": "code",
   "source": [
    "# 라이브러리 불러오기\n",
    "import os\n",
    "from dotenv import load_dotenv\n",
    "\n",
    "# .env 파일에서 환경 변수 로드\n",
    "load_dotenv(\"/content/.env\")\n",
    "# 환경 변수에서 API 키 가져오기\n",
    "api_key = os.getenv(\"OPENAI_API_KEY\")"
   ],
   "metadata": {
    "id": "bI6E-RasFUDd",
    "pycharm": {
     "name": "#%%\n"
    }
   },
   "execution_count": null,
   "outputs": []
  },
  {
   "cell_type": "markdown",
   "source": [
    "# **2024 부동산 보고서 RAG 챗봇**"
   ],
   "metadata": {
    "id": "a_lk1ayeFVyE",
    "pycharm": {
     "name": "#%% md\n"
    }
   }
  },
  {
   "cell_type": "code",
   "source": [
    "# 라이브러리 불러오기\n",
    "from langchain_community.document_loaders import PyPDFLoader\n",
    "from langchain.text_splitter import RecursiveCharacterTextSplitter\n",
    "from langchain_opneai import OpenAIEmbeddings, ChatOpenAI\n",
    "from langchain_chroma import Chroma\n",
    "from langchain.schema.output_parser import StrOutputParser\n",
    "from langchain_core.runnables import RunnablePassthrough, RunnableWithMessageHistory\n",
    "from langchain.memory import ChatMessageHistory"
   ],
   "metadata": {
    "id": "tFzGvWaAFYwT",
    "pycharm": {
     "name": "#%%\n"
    }
   },
   "execution_count": null,
   "outputs": []
  },
  {
   "cell_type": "markdown",
   "source": [
    "# **PDF 문서 로드 및 텍스트 분할**"
   ],
   "metadata": {
    "id": "F69Oqc2jG5R1",
    "pycharm": {
     "name": "#%% md\n"
    }
   }
  },
  {
   "cell_type": "code",
   "source": [
    "loader = PyPDFLoader(\"pdf 경로\")\n",
    "# PDF 파일에서 문서 로드\n",
    "documents = loader.load()\n",
    "# 텍스트 분할 설정: 청크 크기와 겹칩 설정\n",
    "text_splitter = RecursiveCharacterTextSplitter(chunk_size=1000, chunk_overlap=200)\n",
    "# 문서를 작은 청크로 분할\n",
    "chunks = text_splitter.split_documents(documents)\n",
    "# 분할된 청크 수 확인\n",
    "print('분할된 청크의 수:', len(chunks))"
   ],
   "metadata": {
    "id": "2Uizi7T8G7n0",
    "pycharm": {
     "name": "#%%\n"
    }
   },
   "execution_count": null,
   "outputs": []
  },
  {
   "cell_type": "markdown",
   "source": [
    "# **임베딩 생성 및 Chroma 데이터베이스 저장**"
   ],
   "metadata": {
    "id": "Uvqz5_TVH55W",
    "pycharm": {
     "name": "#%% md\n"
    }
   }
  },
  {
   "cell_type": "code",
   "source": [
    "# 임베딩 생성 및 Chroma 데이터베이스에 저장\n",
    "# OpenAI의 임베딩 모델 설정\n",
    "embedding_function = OpenAIEmbeddings()\n",
    "persist_directory = \"크로마 DB 저장 경로\"\n",
    "\n",
    "vectorstore = Chroma.from_documents(\n",
    "    documents=chunks,\n",
    "    embedding=embedding_function,\n",
    "    # DB 저장 경로\n",
    "    persist_directory=persist_directory,\n",
    ")\n",
    "\n",
    "print('문서의 수:', vectorstore._collection.count())"
   ],
   "metadata": {
    "id": "BOWnalI3H6oN",
    "pycharm": {
     "name": "#%%\n"
    }
   },
   "execution_count": null,
   "outputs": []
  },
  {
   "cell_type": "markdown",
   "source": [
    "# **검색 및 재정렬**"
   ],
   "metadata": {
    "id": "hWcgxSPBJHGq",
    "pycharm": {
     "name": "#%% md\n"
    }
   }
  },
  {
   "cell_type": "code",
   "source": [
    "# 리트리버 생성\n",
    "# 상위 3개의 관련 문서 검색 설정\n",
    "retriever = vectorstore.as_retriever(search_kwargs={\"k\": 3})"
   ],
   "metadata": {
    "id": "0yjF9T3lJH2G",
    "pycharm": {
     "name": "#%%\n"
    }
   },
   "execution_count": null,
   "outputs": []
  },
  {
   "cell_type": "code",
   "source": [
    "# 프롬프트 템플릿 설정: 사용자 질문에 대한 답변을 생성하기 위한 템플릿\n",
    "template = \"\"\"당신은 KB 부동산 보고서 전문가입니다. 다음 정보를 바탕으로 사용자의 질문에 답변해주세요.\n",
    "컨텍스트: {context}\n",
    "\"\"\"\n",
    "\n",
    "# 프롬프트 템플릿 설정\n",
    "prompt = ChatPromptTempalte.from_messages(\n",
    "    [\n",
    "        (\"system\", template),\n",
    "        (\"placeholder\", \"{chat_history}\"),\n",
    "        (\"human\", \"{question}\")\n",
    "    ]\n",
    ")\n",
    "\n",
    "# AI 모델 설정\n",
    "model = ChatOpenAI(model_name=\"gpt-4o-mini\", temperature=0)"
   ],
   "metadata": {
    "id": "eH4Yxx0fwWCQ",
    "pycharm": {
     "name": "#%%\n"
    }
   },
   "execution_count": null,
   "outputs": []
  },
  {
   "cell_type": "code",
   "source": [
    "print(prompt.format(context=\"컨텍스트 예시\"), chat_history=[\"대화 기록 예시1\", \"대화 기록 예시2\"], question=\"질문 예시\")"
   ],
   "metadata": {
    "id": "2WNZpgi4xoZl",
    "pycharm": {
     "name": "#%%\n"
    }
   },
   "execution_count": null,
   "outputs": []
  }
 ]
}