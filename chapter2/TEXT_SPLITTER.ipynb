{
 "nbformat": 4,
 "nbformat_minor": 0,
 "metadata": {
  "colab": {
   "provenance": []
  },
  "kernelspec": {
   "name": "python3",
   "display_name": "Python 3"
  },
  "language_info": {
   "name": "python"
  }
 },
 "cells": [
  {
   "cell_type": "code",
   "execution_count": null,
   "metadata": {
    "id": "fY9fbFWSF4NQ",
    "pycharm": {
     "name": "#%%\n"
    }
   },
   "outputs": [],
   "source": [
    "from google.colab import drive\n",
    "drive.mount('/content/drive')"
   ]
  },
  {
   "cell_type": "code",
   "source": [
    "%%capture --no-stderr\n",
    "!pip install python-dotenv langchain_openai langchain_experimental langchain_community pypdf langchain pymupdf"
   ],
   "metadata": {
    "id": "txyzSCNkF8zU",
    "pycharm": {
     "name": "#%%\n"
    }
   },
   "execution_count": null,
   "outputs": []
  },
  {
   "cell_type": "code",
   "source": [
    "# 환경변수 설정"
   ],
   "metadata": {
    "id": "euRoHbVuF-Yy",
    "pycharm": {
     "name": "#%%\n"
    }
   },
   "execution_count": null,
   "outputs": []
  },
  {
   "cell_type": "code",
   "source": [
    "# 라이브러리 불러오기\n",
    "import os\n",
    "from dotenv import load_dotenv\n",
    "\n",
    "# .env 파일에서 환경 변수 로드\n",
    "load_dotenv(\"/content/.env\")\n",
    "# 환경 변수에서 API 키 가져오기\n",
    "api_key = os.getenv(\"OPENAI_API_KEY\")"
   ],
   "metadata": {
    "id": "AQWUe0YXGAJF",
    "pycharm": {
     "name": "#%%\n"
    }
   },
   "execution_count": null,
   "outputs": []
  },
  {
   "cell_type": "code",
   "source": [
    "# 라이브러리 불러오기\n",
    "from langchain.text_splitter import RecursiveCharacterTextSplitter\n",
    "from langchain_community.document_loaders import PyPDFLoader"
   ],
   "metadata": {
    "id": "WypdLt05GQxY",
    "pycharm": {
     "name": "#%%\n"
    }
   },
   "execution_count": null,
   "outputs": []
  },
  {
   "cell_type": "code",
   "source": [
    "# PyPDFLoader를 사용하여 PDF 파일 로드\n",
    "loader = PyPDFLoader(\"pdf 파일 경로\")\n",
    "pages = loader.load()\n",
    "\n",
    "# PDF 파일의 모든 페이지에서 텍스트를 추출하여 총 글자 수 계산\n",
    "print('총 글자 수:', len(''.join([i.page_content for i in pages])))"
   ],
   "metadata": {
    "id": "OaADZs3rsP10",
    "pycharm": {
     "name": "#%%\n"
    }
   },
   "execution_count": null,
   "outputs": []
  },
  {
   "cell_type": "code",
   "source": [
    "# RecursiveCharacterTextSplitter 초기화\n",
    "text_splitter = RecursiveCharacterTextSplitter(chunk_size=500, chunk_overlap=50)\n",
    "\n",
    "# 문서 분할\n",
    "texts = text_splitter.split_documents(pages)\n",
    "print('분할된 청크의 수:', len(texts))"
   ],
   "metadata": {
    "id": "vS7NCRBftfDl",
    "pycharm": {
     "name": "#%%\n"
    }
   },
   "execution_count": null,
   "outputs": []
  },
  {
   "cell_type": "code",
   "source": [
    "texts[1]"
   ],
   "metadata": {
    "id": "hAxmgU25uHVf",
    "pycharm": {
     "name": "#%%\n"
    }
   },
   "execution_count": null,
   "outputs": []
  },
  {
   "cell_type": "code",
   "source": [
    "texts[1].page_content"
   ],
   "metadata": {
    "id": "TghaRs1ougR5",
    "pycharm": {
     "name": "#%%\n"
    }
   },
   "execution_count": null,
   "outputs": []
  },
  {
   "cell_type": "code",
   "source": [
    "texts[2].page_content"
   ],
   "metadata": {
    "id": "aUxgcMZnuoq6",
    "pycharm": {
     "name": "#%%\n"
    }
   },
   "execution_count": null,
   "outputs": []
  },
  {
   "cell_type": "code",
   "source": [
    "print('1번 청크의 길이:', len(texts[1].page_content))\n",
    "print('2번 청크의 길이:', len(texts[2].page_content))"
   ],
   "metadata": {
    "id": "-_IB8LLsu2Qp",
    "pycharm": {
     "name": "#%%\n"
    }
   },
   "execution_count": null,
   "outputs": []
  },
  {
   "cell_type": "markdown",
   "source": [
    "# **SemanticChunker**"
   ],
   "metadata": {
    "id": "79qyue1aYFwg",
    "pycharm": {
     "name": "#%% md\n"
    }
   }
  },
  {
   "cell_type": "code",
   "source": [
    "# 필요한 라이브러리 설치\n",
    "!pip install langchain langchain_experimental langchain_openai\n",
    "\n",
    "# 라이브러리 불러오기\n",
    "from langchain_experimental.text_splitter import SemanticChunker\n",
    "from langchain_openai.embeddings import OpenAIEmbeddings\n",
    "from langchain_community.document_loaders import PyPDFLoader"
   ],
   "metadata": {
    "id": "BkU3__2oYRJC",
    "pycharm": {
     "name": "#%%\n"
    }
   },
   "execution_count": null,
   "outputs": []
  },
  {
   "cell_type": "code",
   "source": [
    "# PyPDFLoader를 사용하여 PDF 파일 로드\n",
    "loader = PyPDFLoader(\"PDF 경로\")\n",
    "pages = loader.load()\n",
    "\n",
    "# SemanticChunker 초기화\n",
    "text_splitter = SemanticChunker(embeddings=OpenAIEmbeddings())\n",
    "\n",
    "# 텍스트를 의미 단위로 분할\n",
    "chunks = text_splitter.split_documents(pages)\n",
    "\n",
    "# 분할된 청크 수\n",
    "print('분할된 청크의 수:', len(chunks))"
   ],
   "metadata": {
    "id": "46zM1AYPZb0R",
    "pycharm": {
     "name": "#%%\n"
    }
   },
   "execution_count": null,
   "outputs": []
  },
  {
   "cell_type": "code",
   "source": [
    "chunks[3]"
   ],
   "metadata": {
    "id": "UPFTaTVgaR4I",
    "pycharm": {
     "name": "#%%\n"
    }
   },
   "execution_count": null,
   "outputs": []
  },
  {
   "cell_type": "code",
   "source": [
    "chunks[4]"
   ],
   "metadata": {
    "id": "fOO4DeHaaThH",
    "pycharm": {
     "name": "#%%\n"
    }
   },
   "execution_count": null,
   "outputs": []
  },
  {
   "cell_type": "code",
   "source": [
    "chunks[5]"
   ],
   "metadata": {
    "id": "trmIto-6aU5R",
    "pycharm": {
     "name": "#%%\n"
    }
   },
   "execution_count": null,
   "outputs": []
  },
  {
   "cell_type": "markdown",
   "source": [
    "# **백분위수 방식의 SemanticChunker**"
   ],
   "metadata": {
    "id": "SZlSetpMyJjH",
    "pycharm": {
     "name": "#%% md\n"
    }
   }
  },
  {
   "cell_type": "code",
   "source": [
    "text_splitter = SemanticChunker(\n",
    "    OpenAIEmbeddings(),\n",
    "    breakpoint_threshold_type=\"percentile\",\n",
    "    breakpoint_threshold_amount=95,\n",
    ")\n",
    "\n",
    "chunks = text_spliiter.split_documents(pages)\n",
    "\n",
    "print('분할된 청크의 수:', len(chunks))"
   ],
   "metadata": {
    "id": "WvMaYr2pzdGd",
    "pycharm": {
     "name": "#%%\n"
    }
   },
   "execution_count": null,
   "outputs": []
  },
  {
   "cell_type": "markdown",
   "source": [
    "# **표준편차 방식의 SemanticChunker**"
   ],
   "metadata": {
    "id": "UYrIAOMLrtDA",
    "pycharm": {
     "name": "#%% md\n"
    }
   }
  },
  {
   "cell_type": "code",
   "source": [
    "text_splitter = SemanticChunker(\n",
    "    OpenAIEmbeddings(),\n",
    "    breakpoint_threshold_type=\"standard_deviation\",\n",
    "    breakpoint_threshold_amount=3,\n",
    ")\n",
    "\n",
    "chunks = text_splitter.split_documents(pages)\n",
    "\n",
    "print('분할된 청크의 수:', len(chunks))"
   ],
   "metadata": {
    "id": "weIUucEhrt05",
    "pycharm": {
     "name": "#%%\n"
    }
   },
   "execution_count": null,
   "outputs": []
  }
 ]
}