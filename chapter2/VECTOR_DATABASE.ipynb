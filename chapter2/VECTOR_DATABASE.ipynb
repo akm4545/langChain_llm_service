{
 "nbformat": 4,
 "nbformat_minor": 0,
 "metadata": {
  "colab": {
   "provenance": []
  },
  "kernelspec": {
   "name": "python3",
   "display_name": "Python 3"
  },
  "language_info": {
   "name": "python"
  }
 },
 "cells": [
  {
   "cell_type": "code",
   "execution_count": null,
   "metadata": {
    "id": "3jPQ6kQTzyoE",
    "pycharm": {
     "name": "#%%\n"
    }
   },
   "outputs": [],
   "source": [
    "from google.colab import drive\n",
    "drive.mount('/content/drive')"
   ]
  },
  {
   "cell_type": "code",
   "source": [
    "!nvcc --version"
   ],
   "metadata": {
    "id": "P-PeYA4qz3tf",
    "pycharm": {
     "name": "#%%\n"
    }
   },
   "execution_count": null,
   "outputs": []
  },
  {
   "cell_type": "code",
   "source": [
    "# faiss-gpu를 쓰기 위해서는 '런타임 유형'을 'T4 GPU'로 바꿔주어야 합니다.\n",
    "%%capture --no-stderr\n",
    "!pip install python-dotenv langchain_openai langchain_experimental langchain-chroma pypdf chromadb faiss-gpu-cu12"
   ],
   "metadata": {
    "id": "alhnAQbYz7ll",
    "pycharm": {
     "name": "#%%\n"
    }
   },
   "execution_count": null,
   "outputs": []
  },
  {
   "cell_type": "code",
   "source": [
    "# 환경변수 설정"
   ],
   "metadata": {
    "id": "Oc9js-NWz8qK",
    "pycharm": {
     "name": "#%%\n"
    }
   },
   "execution_count": null,
   "outputs": []
  },
  {
   "cell_type": "code",
   "source": [
    "# 라이브러리 불러오기\n",
    "import os\n",
    "from dotenv import load_dotenv\n",
    "\n",
    "# .env 파일에서 환경 변수 로드\n",
    "load_dotenv(\"/content/.env\")\n",
    "# 환경 변수에서 API 키 가져오기\n",
    "api_key = os.getenv(\"OPENAI_API_KEY\")"
   ],
   "metadata": {
    "id": "GMBzkQpn0Ap6",
    "pycharm": {
     "name": "#%%\n"
    }
   },
   "execution_count": null,
   "outputs": []
  },
  {
   "cell_type": "markdown",
   "source": [
    "# **크로마**"
   ],
   "metadata": {
    "id": "tUso80kB0CNz",
    "pycharm": {
     "name": "#%% md\n"
    }
   }
  },
  {
   "cell_type": "code",
   "source": [
    "# 라이브러리 불러오기\n",
    "from langchain_community.document_loaders import PyDPFLoader\n",
    "from langchain_text_splitters import RecursiveCharacterTextSplitter\n",
    "from langchain_openai import OpenAIEmbeddings\n",
    "from langchain_chroma import Chroma"
   ],
   "metadata": {
    "id": "-rQGA0dy0K12",
    "pycharm": {
     "name": "#%%\n"
    }
   },
   "execution_count": null,
   "outputs": []
  },
  {
   "cell_type": "code",
   "source": [
    "# PDF 파일 로드\n",
    "loader = PyPDFLoader(\"PDF 파일 경로\")\n",
    "pages = loader.load()\n",
    "\n",
    "print(\"청크의 수:\", len(pages))"
   ],
   "metadata": {
    "id": "4GyXv12R0lTb",
    "pycharm": {
     "name": "#%%\n"
    }
   },
   "execution_count": null,
   "outputs": []
  },
  {
   "cell_type": "code",
   "source": [
    "# 텍스트 분할\n",
    "text_splitter = RecursiveCharacterTextSplitter(chunk_size=1000, chunk_overlap=200)\n",
    "splits = text_splitter.split_documents(pages)\n",
    "\n",
    "print(\"분할된 청크의 수:\", len(splits))"
   ],
   "metadata": {
    "id": "vJQYMbI11BH4",
    "pycharm": {
     "name": "#%%\n"
    }
   },
   "execution_count": null,
   "outputs": []
  },
  {
   "cell_type": "code",
   "source": [
    "# 각 청크의 길이(문자 수)를 저장한 리스트 생성\n",
    "chunk_lengths = [len(chunk.page_content) for chunk in splits]\n",
    "\n",
    "max_length = max(chunk_lengths)\n",
    "min_length = min(chunk_langths)\n",
    "avg_length = sum(chunk_lengths) / len(chunk_lengths)\n",
    "\n",
    "print('청크의 최대 길이:', max_length)\n",
    "print('청크의 최소 길이:', min_length)\n",
    "print('청크의 평균 길이:', avg_length)"
   ],
   "metadata": {
    "id": "3LzGCaZJSlqW",
    "pycharm": {
     "name": "#%%\n"
    }
   },
   "execution_count": null,
   "outputs": []
  },
  {
   "cell_type": "code",
   "source": [
    "# 임베딩 모델 초기화\n",
    "embedding_function = OpenAIEmbeddings()\n",
    "\n",
    "# Chroma DB 생성 및 데이터 저장\n",
    "persist_directory = \"크로마 DB 데이터 저장 경로\"\n",
    "vectordb = Chroma.from_documents(\n",
    "    documents=splits,\n",
    "    embedding=embedding_function,\n",
    "    persist_directory=persist_directory\n",
    ")\n",
    "\n",
    "print('문서의 수:', vectordb._collection.count())"
   ],
   "metadata": {
    "id": "CIsMnOylUHAN",
    "pycharm": {
     "name": "#%%\n"
    }
   },
   "execution_count": null,
   "outputs": []
  },
  {
   "cell_type": "code",
   "source": [
    "# 임베딩 모델 초기화\n",
    "embedding_function = OpenAIEmbeddings()\n",
    "\n",
    "# Chroma DB 불러오기\n",
    "vectordb = Chroma(\n",
    "    embedding_function=embedding_function,\n",
    "    persist_directory=persist_directory\n",
    ")\n",
    "\n",
    "print('문서의 수:', vectordb._collection.count())"
   ],
   "metadata": {
    "id": "sfkT00VAVUsQ",
    "pycharm": {
     "name": "#%%\n"
    }
   },
   "execution_count": null,
   "outputs": []
  },
  {
   "cell_type": "markdown",
   "source": [
    "# **similarity_search 메서드 사용**"
   ],
   "metadata": {
    "id": "EwF1pB1tWDOY",
    "pycharm": {
     "name": "#%% md\n"
    }
   }
  },
  {
   "cell_type": "code",
   "source": [
    "question = \"수도권 주택 매매 전망\"\n",
    "top_three_docs = vectordb.similarity_search(question, k=2)\n",
    "\n",
    "# enumerate(리스트, 시작번호)는 리스트를 인덱스와 값을 동시에 꺼내주는 함수\n",
    "for i, doc in enumerate(top_three_docs, 1):\n",
    "  print(f\"문서 {i}:\")\n",
    "  print(f\"내용: {doc.page_content[:150]}...\")\n",
    "  print(f\"메타데이터: {doc.metadata}\")\n",
    "  print('--' * 20)"
   ],
   "metadata": {
    "id": "ZimsChIWWFLU",
    "pycharm": {
     "name": "#%%\n"
    }
   },
   "execution_count": null,
   "outputs": []
  },
  {
   "cell_type": "markdown",
   "source": [
    "# **similarity_search_with_relevance_scores 메서드 사용**"
   ],
   "metadata": {
    "id": "SV2qUsfTbw3o",
    "pycharm": {
     "name": "#%% md\n"
    }
   }
  },
  {
   "cell_type": "code",
   "source": [
    "question = \"수도권 주택 매매 전망\"\n",
    "\n",
    "top_three_docs = vectordb.similarity_search_with_relevance_socres(question, k=3)\n",
    "\n",
    "for i, doc in enumerate(top_three_docs, 1):\n",
    "  print(f\"문서 {i}:\")\n",
    "  print(f\"유사 점수 {doc[1]}:\")\n",
    "  print(f\"내용: {doc[0].page_content[:150]}...\")\n",
    "  print(f\"메타데이터: {doc[0].metadata}\")\n",
    "  print('--' * 20)"
   ],
   "metadata": {
    "id": "GIXzhSdsbxmC",
    "pycharm": {
     "name": "#%%\n"
    }
   },
   "execution_count": null,
   "outputs": []
  }
 ]
}