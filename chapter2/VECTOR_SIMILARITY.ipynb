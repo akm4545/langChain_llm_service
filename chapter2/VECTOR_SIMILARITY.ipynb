{
 "nbformat": 4,
 "nbformat_minor": 0,
 "metadata": {
  "colab": {
   "provenance": []
  },
  "kernelspec": {
   "name": "python3",
   "display_name": "Python 3"
  },
  "language_info": {
   "name": "python"
  }
 },
 "cells": [
  {
   "cell_type": "markdown",
   "source": [
    "# **벡터들 간 코사인 유사도 계산**"
   ],
   "metadata": {
    "id": "LtO7shy-XQp3",
    "pycharm": {
     "name": "#%% md\n"
    }
   }
  },
  {
   "cell_type": "code",
   "source": [
    "# 라이브러리 불러오기\n",
    "import numpy as np\n",
    "from numpy import dot\n",
    "from numpy.linalg import norm\n",
    "\n",
    "# 코사인 유사도를 계산하는 함수를 정의\n",
    "def cos_sim(A, B):\n",
    "  return dot(A, B)/(norm(A) * norm(B))\n",
    "\n",
    "# 벡터들 간의 코사인 유사도를 출력\n",
    "vec1 = np.array([0, 1, 1, 1])\n",
    "vec2 = np.array([1, 0, 2, 1])\n",
    "vec3 = np.array([2, 0, 4, 2])\n",
    "\n",
    "print('벡터1과 벡터2의 유사도 :', cos_sim(vec1, vec2))\n",
    "print('벡터1과 벡터3의 유사도 :', cos_sim(vec1, vec3))\n",
    "print('벡터2과 벡터3의 유사도 :', cos_sim(vec2, vec3))"
   ],
   "metadata": {
    "colab": {
     "base_uri": "https://localhost:8080/"
    },
    "id": "4leKv0NkXR4f",
    "outputId": "15b6a13b-3577-4629-9ff7-ed6c10e074d9",
    "pycharm": {
     "name": "#%%\n"
    }
   },
   "execution_count": 1,
   "outputs": [
    {
     "output_type": "stream",
     "name": "stdout",
     "text": [
      "벡터1과 벡터2의 유사도 : 0.7071067811865476\n",
      "벡터1과 벡터3의 유사도 : 0.7071067811865476\n",
      "벡터2과 벡터3의 유사도 : 1.0000000000000002\n"
     ]
    }
   ]
  }
 ]
}