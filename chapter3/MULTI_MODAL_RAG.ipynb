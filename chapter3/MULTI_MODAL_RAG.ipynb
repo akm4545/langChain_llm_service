{
 "nbformat": 4,
 "nbformat_minor": 0,
 "metadata": {
  "colab": {
   "provenance": []
  },
  "kernelspec": {
   "name": "python3",
   "display_name": "Python 3"
  },
  "language_info": {
   "name": "python"
  }
 },
 "cells": [
  {
   "cell_type": "markdown",
   "source": [
    " PDF 분할 작업을 위해 `unstructured`를 사용한다`unstructured` 를 위해 다음과 도구의 설치가 필요하다\n",
    "\n",
    "  - tesseract : 광학 문자 인식(OCR)을 위해 사용\n",
    "  - poppler : PDF 렌더링 및 처리\n",
    "\n",
    "  [poppler 설치 방법](https://pdf2image.readthedocs.io/en/latest/installation.html)과 [tesseract 설치 방법](https://tesseract-ocr.github.io/tessdoc/Installation.html)을 참고"
   ],
   "metadata": {
    "id": "gJcEMfxPyh1B",
    "pycharm": {
     "name": "#%% md\n"
    }
   }
  },
  {
   "cell_type": "markdown",
   "source": [
    "# **라이브러리 설치**"
   ],
   "metadata": {
    "id": "UtvxH7AczSbr",
    "pycharm": {
     "name": "#%% md\n"
    }
   }
  },
  {
   "cell_type": "code",
   "source": [
    "%%capture --no-stderr\n",
    "!sudo apt install tesseract-ocr\n",
    "!sudo apt install libtesseract-dev\n",
    "!sudo apt-get install poppler-utils"
   ],
   "metadata": {
    "id": "-6RqMVDDzUNy",
    "pycharm": {
     "name": "#%%\n"
    }
   },
   "execution_count": null,
   "outputs": []
  },
  {
   "cell_type": "code",
   "source": [
    "%%capture --no-stderr\n",
    "! pip install -U langchain openai chromadb langchain-experimental langchain_openai nltk pydantic lxml matplotlib chromadb tiktoken\n",
    "! pip install pillow == 11.1.0\n",
    "! pip install \"unstructured[all-docs]\" == 0.17.2"
   ],
   "metadata": {
    "id": "UEZ4LlIuzU8H",
    "pycharm": {
     "name": "#%%\n"
    }
   },
   "execution_count": null,
   "outputs": []
  },
  {
   "cell_type": "markdown",
   "source": [],
   "metadata": {
    "id": "t8QPZ69Gz1IV",
    "pycharm": {
     "name": "#%% md\n"
    }
   }
  },
  {
   "cell_type": "code",
   "source": [
    "from google.colab import drive\n",
    "drive.mount('/content/drive')"
   ],
   "metadata": {
    "id": "GAo7fozczbe2",
    "pycharm": {
     "name": "#%%\n"
    }
   },
   "execution_count": null,
   "outputs": []
  },
  {
   "cell_type": "code",
   "source": [
    "from dotenv import load_dotenv\n",
    "\n",
    "# .env 파일에서 환경 변수 로드\n",
    "load_dotenv(\"/content/.env\")"
   ],
   "metadata": {
    "id": "UTYLu09wzc4V",
    "pycharm": {
     "name": "#%%\n"
    }
   },
   "execution_count": null,
   "outputs": []
  },
  {
   "cell_type": "markdown",
   "source": [
    "# **PDF 데이터 전처리**"
   ],
   "metadata": {
    "id": "iepOPr-Jg81P",
    "pycharm": {
     "name": "#%% md\n"
    }
   }
  },
  {
   "cell_type": "code",
   "source": [
    "# 파일 경로\n",
    "fpath = 'pdf 파일이 저장된 디렉토리 경로'\n",
    "fname = \"sample.pdf\""
   ],
   "metadata": {
    "id": "FfmAt_Qug-fo",
    "pycharm": {
     "name": "#%%\n"
    }
   },
   "execution_count": null,
   "outputs": []
  },
  {
   "cell_type": "code",
   "source": [
    "import nltk\n",
    "\n",
    "# nltk 필요 데이터 다운로드\n",
    "nltk.download('punkt_tab')\n",
    "nltk.download('averaged_perceptron_tagger_eng')"
   ],
   "metadata": {
    "id": "PZ6ncu4GhYNS",
    "pycharm": {
     "name": "#%%\n"
    }
   },
   "execution_count": null,
   "outputs": []
  },
  {
   "cell_type": "code",
   "source": [
    "from unstructured.partition.pdf import partition_pdf\n",
    "import os\n",
    "\n",
    "# PDF에서 요소 추출\n",
    "raw_pdf_elements = partition_pdf(\n",
    "    filename=os.path.join(fpath, fname),\n",
    "    extract_images_in_pdf=True,\n",
    "    infer_table_structure=True,\n",
    "    chunking_strategy=\"by_title\",\n",
    "    extract_image_block_output_dir=fpath,\n",
    ")"
   ],
   "metadata": {
    "id": "XhkzuROOhrLf",
    "pycharm": {
     "name": "#%%\n"
    }
   },
   "execution_count": null,
   "outputs": []
  },
  {
   "cell_type": "code",
   "source": [
    "# 텍스트, 테이블 추출\n",
    "tables = []\n",
    "texts = []\n",
    "\n",
    "for element in raw_pdf_elements:\n",
    "  if \"unstructured.documents.elements.Table\" in str(type(element)):\n",
    "    # 테이블 요소 추가\n",
    "    tables.append(str(element))\n",
    "  elif \"unstructured.documents.elements.CompositeElement\" in str(type(element)):\n",
    "    # 텍스트 요소 추가\n",
    "    texts.append(str(element))"
   ],
   "metadata": {
    "id": "d7Pw8TqPi7KS",
    "pycharm": {
     "name": "#%%\n"
    }
   },
   "execution_count": null,
   "outputs": []
  },
  {
   "cell_type": "code",
   "source": [
    "tables[0]\n",
    "texts[0]"
   ],
   "metadata": {
    "id": "B1kNrvERjpIT",
    "pycharm": {
     "name": "#%%\n"
    }
   },
   "execution_count": null,
   "outputs": []
  },
  {
   "cell_type": "markdown",
   "source": [
    "# **텍스트 및 테이블 요약**"
   ],
   "metadata": {
    "id": "zOoBa-wvmHcd",
    "pycharm": {
     "name": "#%% md\n"
    }
   }
  },
  {
   "cell_type": "code",
   "source": [
    "from langchain_core.output_parsers import StrOutputParser\n",
    "from langchain_core.prompts import ChatPromptTemplate\n",
    "from langchain_openai import ChatOpenAI\n",
    "\n",
    "# 프롬프트 설정\n",
    "prompt_text = \"\"\"당신은 표와 텍스트를 요약하여 검색할 수 있도록 돕는 역할을 맡은 어시스턴트입니다.\n",
    "이 요약은 임베딩되어 원본 텍스트나 표 요소를 검색하는 데 사용될 것입니다.\n",
    "표 또는 텍스트에 대한 간결한 요약을 제공하여 검색에 최적화된 형태로 만들어 주세요. 표 또는 텍스트: {element} \"\"\"\n",
    "\n",
    "prompt = ChatPromptTemplate.from_template(prompt_text)\n",
    "\n",
    "# 텍스트 요약 체인\n",
    "model = ChatOpenAI(temperature=0, model=\"gpt-4\")\n",
    "summarize_chain = {\"element\": lambda x: x} | prompt | model | StrOutputParser()\n",
    "\n",
    "# 제공된 텍스트에 대해 요약을 할 경우\n",
    "text_summaries = summarize_chain.batch(texts, {\"max_concurrency\": 5})\n",
    "\n",
    "# 요약을 원치 않을 경우\n",
    "# text_summaries = texts\n",
    "\n",
    "# 제공된 테이블에 적용\n",
    "table_summaries = summarize_chain.batch(tables, {\"max_concurrency\": 5})"
   ],
   "metadata": {
    "id": "kloFpOLEmJyu",
    "pycharm": {
     "name": "#%%\n"
    }
   },
   "execution_count": null,
   "outputs": []
  },
  {
   "cell_type": "code",
   "source": [
    "table_summaries[0]\n",
    "text_summaries[0]"
   ],
   "metadata": {
    "id": "JIUNtvZsppaE",
    "pycharm": {
     "name": "#%%\n"
    }
   },
   "execution_count": null,
   "outputs": []
  },
  {
   "cell_type": "markdown",
   "source": [
    "# **base64 인코딩 전달**"
   ],
   "metadata": {
    "id": "cizMDRHYSE4e",
    "pycharm": {
     "name": "#%% md\n"
    }
   }
  },
  {
   "cell_type": "code",
   "source": [
    "import base64\n",
    "\n",
    "# -> str = 타입 힌트, 반환값\n",
    "def encode_image(image_path) -> str:\n",
    "  # 이미지 base64 인코딩\n",
    "  # rb = 바이너리 읽기 모드\n",
    "  with open(image_path, \"rb\") as image_file:\n",
    "    # .decode('utf-8') = 바이트를 문자열로 변환\n",
    "    return base64.b64encode(image_file.read()).decode('utf-8')\n",
    "\n",
    "# 이미지의 base64 인코딩을 저장하는 리스트\n",
    "img_base64_list = []\n",
    "\n",
    "# 이미지를 읽어 bese64 인코딩 후 저장\n",
    "# os.listdir(fpath) = 해당 경로에 있는 파일 목록 불러오기\n",
    "for img_file in sorted(os.listdir(fpath)):\n",
    "  if img_file.endswith('.jpg')\n",
    "    img_path = os.path.join(fpath, img_file)\n",
    "    base64_image = encode_image(img_path)\n",
    "    img_base64_list.append(base64_image)"
   ],
   "metadata": {
    "id": "fGA2QAuASGAt",
    "pycharm": {
     "name": "#%%\n"
    }
   },
   "execution_count": null,
   "outputs": []
  }
 ]
}