{
  "nbformat": 4,
  "nbformat_minor": 0,
  "metadata": {
    "colab": {
      "provenance": []
    },
    "kernelspec": {
      "name": "python3",
      "display_name": "Python 3"
    },
    "language_info": {
      "name": "python"
    }
  },
  "cells": [
    {
      "cell_type": "markdown",
      "source": [
        " PDF 분할 작업을 위해 `unstructured`를 사용한다`unstructured` 를 위해 다음과 도구의 설치가 필요하다\n",
        "\n",
        "  - tesseract : 광학 문자 인식(OCR)을 위해 사용\n",
        "  - poppler : PDF 렌더링 및 처리\n",
        "\n",
        "  [poppler 설치 방법](https://pdf2image.readthedocs.io/en/latest/installation.html)과 [tesseract 설치 방법](https://tesseract-ocr.github.io/tessdoc/Installation.html)을 참고"
      ],
      "metadata": {
        "id": "gJcEMfxPyh1B"
      }
    },
    {
      "cell_type": "markdown",
      "source": [
        "# **라이브러리 설치**"
      ],
      "metadata": {
        "id": "UtvxH7AczSbr"
      }
    },
    {
      "cell_type": "code",
      "source": [
        "%%capture --no-stderr\n",
        "!sudo apt install tesseract-ocr\n",
        "!sudo apt install libtesseract-dev\n",
        "!sudo apt-get install poppler-utils"
      ],
      "metadata": {
        "id": "-6RqMVDDzUNy"
      },
      "execution_count": null,
      "outputs": []
    },
    {
      "cell_type": "code",
      "source": [
        "%%capture --no-stderr\n",
        "! pip install -U langchain openai chromadb langchain-experimental langchain_openai nltk pydantic lxml matplotlib chromadb tiktoken\n",
        "! pip install pillow == 11.1.0\n",
        "! pip install \"unstructured[all-docs]\" == 0.17.2"
      ],
      "metadata": {
        "id": "UEZ4LlIuzU8H"
      },
      "execution_count": null,
      "outputs": []
    },
    {
      "cell_type": "markdown",
      "source": [],
      "metadata": {
        "id": "t8QPZ69Gz1IV"
      }
    },
    {
      "cell_type": "code",
      "source": [
        "from google.colab import drive\n",
        "drive.mount('/content/drive')"
      ],
      "metadata": {
        "id": "GAo7fozczbe2"
      },
      "execution_count": null,
      "outputs": []
    },
    {
      "cell_type": "code",
      "source": [
        "from dotenv import load_dotenv\n",
        "\n",
        "# .env 파일에서 환경 변수 로드\n",
        "load_dotenv(\"/content/.env\")"
      ],
      "metadata": {
        "id": "UTYLu09wzc4V"
      },
      "execution_count": null,
      "outputs": []
    }
  ]
}