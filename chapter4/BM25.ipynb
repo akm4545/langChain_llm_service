{
 "nbformat": 4,
 "nbformat_minor": 0,
 "metadata": {
  "colab": {
   "provenance": []
  },
  "kernelspec": {
   "name": "python3",
   "display_name": "Python 3"
  },
  "language_info": {
   "name": "python"
  }
 },
 "cells": [
  {
   "cell_type": "markdown",
   "source": [
    "# **사전 준비**"
   ],
   "metadata": {
    "id": "rC8bpp132SuU",
    "pycharm": {
     "name": "#%% md\n"
    }
   }
  },
  {
   "cell_type": "code",
   "source": [
    "!pip install pypdf langchain langchain_openai langchain_community kiwipiepy rank_bm25"
   ],
   "metadata": {
    "id": "BKY9NWOq2VvT",
    "pycharm": {
     "name": "#%%\n"
    }
   },
   "execution_count": null,
   "outputs": []
  },
  {
   "cell_type": "code",
   "source": [
    "from google.colab import drive\n",
    "import os\n",
    "\n",
    "# 먼저 구글 드라이브 마운트\n",
    "drive.mount('/content/drive')"
   ],
   "metadata": {
    "id": "ENbzfzgf2W3u",
    "pycharm": {
     "name": "#%%\n"
    }
   },
   "execution_count": null,
   "outputs": []
  },
  {
   "cell_type": "code",
   "source": [
    "import os\n",
    "from dotenv import load_dotenv\n",
    "\n",
    "# .env 파일에서 환경 변수 로드\n",
    "load_dotenv(\"/content/.env\")\n",
    "\n",
    "# 환경 변수에서 API 키 가져오기\n",
    "os.environ[\"OPENAI_API_KEY\"] = os.getenv(\"OPENAI_API_KEY\")"
   ],
   "metadata": {
    "id": "n7M2tCFf2ZBq",
    "pycharm": {
     "name": "#%%\n"
    }
   },
   "execution_count": null,
   "outputs": []
  },
  {
   "cell_type": "code",
   "source": [
    "from langchain_community.document_loaders import PyPDFLoader\n",
    "from langchain_text_splitters import RecursiveCharacterTextSplitter\n",
    "\n",
    "file_path = (\n",
    "    \"PDF 파일 경로\"\n",
    ")\n",
    "loader = PyPDFLoader(file_path)\n",
    "\n",
    "doc_splitter = RecursiveCharacterTextSplitter(chunk_size=2000, chunk_overlap=200)\n",
    "docs = loader.load_and_split(doc_splitter)"
   ],
   "metadata": {
    "id": "XD7x_4Nr2cSl",
    "pycharm": {
     "name": "#%%\n"
    }
   },
   "execution_count": null,
   "outputs": []
  },
  {
   "cell_type": "markdown",
   "source": [
    "# **문서 검색기**"
   ],
   "metadata": {
    "id": "bhTQosyq3UBr",
    "pycharm": {
     "name": "#%% md\n"
    }
   }
  },
  {
   "cell_type": "code",
   "source": [
    "from langchain_community.retrievers import BM25Retriever\n",
    "from kiwipiepy import Kiwi\n",
    "\n",
    "kiwi_tokenizer = Kiwi()\n",
    "\n",
    "def kiwi_tokenizer(text):\n",
    "  return [token.form for token in kiwi_tokenizer.tokenize(text)]"
   ],
   "metadata": {
    "id": "0NjgVPSC3V7j",
    "pycharm": {
     "name": "#%%\n"
    }
   },
   "execution_count": null,
   "outputs": []
  },
  {
   "cell_type": "code",
   "source": [
    "bm25_retriever = BM25Retriever.from_documents (docs, preprocess_func=kiwi_tokenize)\n",
    "bm25_retriever.k = 2"
   ],
   "metadata": {
    "id": "w5JMR4kA4RKW",
    "pycharm": {
     "name": "#%%\n"
    }
   },
   "execution_count": null,
   "outputs": []
  },
  {
   "cell_type": "code",
   "source": [
    "from langchain.chains import RetrievalQA, ConversationalRetrievalChain\n",
    "from langchain_openai import ChatOpenAI\n",
    "\n",
    "# 관련 있는 문서 수집 후 챗 GPT로 최종 답변까지 수행하는 체인을 생성\n",
    "qa_chain = RetrievalQA.from_chain_type(\n",
    "    llm=ChatOpenAI(temperature=0.2, model=\"gpt-4o\"),\n",
    "    chain_type=\"stuff\",\n",
    "    retriever=bm25_retriever,\n",
    "    # 답변에 사용된 source document도 보여주도록 설정\n",
    "    return_source_documents=True\n",
    ")"
   ],
   "metadata": {
    "id": "QirWyHLi6YjW",
    "pycharm": {
     "name": "#%%\n"
    }
   },
   "execution_count": null,
   "outputs": []
  },
  {
   "cell_type": "code",
   "source": [
    "qa_chain.invoke(\"이 회사가 발행한 주식의 총 발행량이 어느정도야?\")"
   ],
   "metadata": {
    "id": "b5qimsNU7r2a",
    "pycharm": {
     "name": "#%%\n"
    }
   },
   "execution_count": null,
   "outputs": []
  }
 ]
}