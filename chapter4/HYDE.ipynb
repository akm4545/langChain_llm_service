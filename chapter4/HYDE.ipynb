{
 "nbformat": 4,
 "nbformat_minor": 0,
 "metadata": {
  "colab": {
   "provenance": []
  },
  "kernelspec": {
   "name": "python3",
   "display_name": "Python 3"
  },
  "language_info": {
   "name": "python"
  }
 },
 "cells": [
  {
   "cell_type": "code",
   "execution_count": null,
   "metadata": {
    "id": "o1c5ANGKMjsK",
    "pycharm": {
     "name": "#%%\n"
    }
   },
   "outputs": [],
   "source": [
    "pip install langchain langchain_openai langchain_community chromadb"
   ]
  },
  {
   "cell_type": "code",
   "source": [
    "from google.colab import drive\n",
    "import os\n",
    "\n",
    "# 먼저 구글 드라이브 마운트\n",
    "drive.mount('/content/drive')"
   ],
   "metadata": {
    "id": "w5kBXQSfMrXk",
    "pycharm": {
     "name": "#%%\n"
    }
   },
   "execution_count": null,
   "outputs": []
  },
  {
   "cell_type": "code",
   "source": [
    "import os\n",
    "from dotenv import load_dotenv\n",
    "\n",
    "# .env 파일에서 환경 변수 로드\n",
    "load_dotenv(\"/content/.env\")\n",
    "\n",
    "# 환경 변수에서 API 키 가져오기\n",
    "os.environ[\"OPENAI_API_KEY\"] = os.getenv(\"OPENAI_API_KEY\")"
   ],
   "metadata": {
    "id": "l_RG9AtDMuEC",
    "pycharm": {
     "name": "#%%\n"
    }
   },
   "execution_count": null,
   "outputs": []
  },
  {
   "cell_type": "markdown",
   "source": [
    "# **초기 세팅**"
   ],
   "metadata": {
    "id": "1d3tVqgLMx2K",
    "pycharm": {
     "name": "#%% md\n"
    }
   }
  },
  {
   "cell_type": "code",
   "source": [
    "from langchain_community.vectorstores import Chroma\n",
    "from langchain_openai import OpenAIEmbeddings\n",
    "from langchain_community.document_loaders import TextLoader\n",
    "from langchain_text_splitters import RecursiveCharacterTextSplitter\n",
    "\n",
    "# 문서 로더 설정\n",
    "loaders = [TextLoader(\"문서 경로\")]\n",
    "\n",
    "docs = []\n",
    "for loader in loaders:\n",
    "  docs.extend(loader.load())"
   ],
   "metadata": {
    "id": "YRjmI74dM0D9",
    "pycharm": {
     "name": "#%%\n"
    }
   },
   "execution_count": null,
   "outputs": []
  },
  {
   "cell_type": "code",
   "source": [
    "# 문서 생성을 위한 텍스트 분할기 정의\n",
    "recursive_spliiter = RecursiveCharacterTextSplitter(chunk_size=1000, chunk_overlap=200)\n",
    "\n",
    "# 문서 분할\n",
    "split_docs = recursive_splitter.split_documents(docs)\n",
    "\n",
    "# OpenAIEmbeddings 인스턴스 생성\n",
    "embeddings = OpenAIEmbeddings()\n",
    "\n",
    "# Chroma vectorstore 생성\n",
    "vectorstore = Chroma.from_document(documents=split_docs, embedding=embeddings)\n",
    "\n",
    "# Chroma vectorstore 기반 리트리버 생성\n",
    "retriever = vectorstore.as_retriever()"
   ],
   "metadata": {
    "id": "uGTZvLCYNP4z",
    "pycharm": {
     "name": "#%%\n"
    }
   },
   "execution_count": null,
   "outputs": []
  }
 ]
}